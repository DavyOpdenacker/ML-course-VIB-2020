{
 "cells": [
  {
   "cell_type": "markdown",
   "metadata": {
    "colab_type": "text",
    "id": "TBFXQGKYUc4X"
   },
   "source": [
    "##### Copyright 2018 The TensorFlow Authors."
   ]
  },
  {
   "cell_type": "markdown",
   "metadata": {
    "colab_type": "text",
    "id": "zF9uvbXNVrVY"
   },
   "source": [
    "## Import packages"
   ]
  },
  {
   "cell_type": "markdown",
   "metadata": {
    "colab_type": "text",
    "id": "VddxeYBEVrVZ"
   },
   "source": [
    "Let's start by importing the required packages. The `os` package is used to read files and directory structure, NumPy is used to convert python list to numpy array and to perform required matrix operations and `matplotlib.pyplot` to plot the graph and display images in the training and validation data."
   ]
  },
  {
   "cell_type": "code",
   "execution_count": 11,
   "metadata": {
    "colab": {},
    "colab_type": "code",
    "id": "rtPGh2MAVrVa"
   },
   "outputs": [],
   "source": [
    "from __future__ import absolute_import, division, print_function, unicode_literals\n",
    "import tensorflow as tf\n",
    "\n",
    "from tensorflow.keras.models import Sequential\n",
    "from tensorflow.keras.layers import Dense, Conv2D, Flatten, Dropout, MaxPooling2D\n",
    "from tensorflow.keras.preprocessing.image import ImageDataGenerator\n",
    "\n",
    "import os\n",
    "import numpy as np\n",
    "import matplotlib.pyplot as plt"
   ]
  },
  {
   "cell_type": "markdown",
   "metadata": {
    "colab_type": "text",
    "id": "UZZI6lNkVrVm"
   },
   "source": [
    "## Load data"
   ]
  },
  {
   "cell_type": "code",
   "execution_count": 12,
   "metadata": {
    "colab": {},
    "colab_type": "code",
    "id": "C1nqr-CYY6uw"
   },
   "outputs": [],
   "source": [
    "PATH = \"c:\\Work\\MLcourse2018June\\cats_and_dogs_filtered\""
   ]
  },
  {
   "cell_type": "markdown",
   "metadata": {
    "colab_type": "text",
    "id": "VpmywIlsVrVx"
   },
   "source": [
    "After extracting its contents, assign variables with the proper file path for the training and validation set."
   ]
  },
  {
   "cell_type": "code",
   "execution_count": 13,
   "metadata": {
    "colab": {},
    "colab_type": "code",
    "id": "sRucI3QqVrVy"
   },
   "outputs": [],
   "source": [
    "train_dir = os.path.join(PATH, 'train')\n",
    "validation_dir = os.path.join(PATH, 'validation')"
   ]
  },
  {
   "cell_type": "code",
   "execution_count": 14,
   "metadata": {
    "colab": {},
    "colab_type": "code",
    "id": "Utv3nryxVrV0"
   },
   "outputs": [],
   "source": [
    "train_cats_dir = os.path.join(train_dir, 'cats')  # directory with our training cat pictures\n",
    "train_dogs_dir = os.path.join(train_dir, 'dogs')  # directory with our training dog pictures\n",
    "validation_cats_dir = os.path.join(validation_dir, 'cats')  # directory with our validation cat pictures\n",
    "validation_dogs_dir = os.path.join(validation_dir, 'dogs')  # directory with our validation dog pictures"
   ]
  },
  {
   "cell_type": "markdown",
   "metadata": {
    "colab_type": "text",
    "id": "ZdrHHTy2VrV3"
   },
   "source": [
    "### Understand the data"
   ]
  },
  {
   "cell_type": "markdown",
   "metadata": {
    "colab_type": "text",
    "id": "LblUYjl-VrV3"
   },
   "source": [
    "Let's look at how many cats and dogs images are in the training and validation directory:"
   ]
  },
  {
   "cell_type": "code",
   "execution_count": 15,
   "metadata": {
    "colab": {},
    "colab_type": "code",
    "id": "vc4u8e9hVrV4"
   },
   "outputs": [],
   "source": [
    "num_cats_tr = len(os.listdir(train_cats_dir))\n",
    "num_dogs_tr = len(os.listdir(train_dogs_dir))\n",
    "\n",
    "num_cats_val = len(os.listdir(validation_cats_dir))\n",
    "num_dogs_val = len(os.listdir(validation_dogs_dir))\n",
    "\n",
    "total_train = num_cats_tr + num_dogs_tr\n",
    "total_val = num_cats_val + num_dogs_val"
   ]
  },
  {
   "cell_type": "code",
   "execution_count": 16,
   "metadata": {
    "colab": {},
    "colab_type": "code",
    "id": "g4GGzGt0VrV7"
   },
   "outputs": [
    {
     "name": "stdout",
     "output_type": "stream",
     "text": [
      "total training cat images: 1000\n",
      "total training dog images: 1000\n",
      "total validation cat images: 500\n",
      "total validation dog images: 500\n",
      "--\n",
      "Total training images: 2000\n",
      "Total validation images: 1000\n"
     ]
    }
   ],
   "source": [
    "print('total training cat images:', num_cats_tr)\n",
    "print('total training dog images:', num_dogs_tr)\n",
    "\n",
    "print('total validation cat images:', num_cats_val)\n",
    "print('total validation dog images:', num_dogs_val)\n",
    "print(\"--\")\n",
    "print(\"Total training images:\", total_train)\n",
    "print(\"Total validation images:\", total_val)"
   ]
  },
  {
   "cell_type": "markdown",
   "metadata": {
    "colab_type": "text",
    "id": "8Lp-0ejxOtP1"
   },
   "source": [
    "For convenience, set up variables to use while pre-processing the dataset and training the network."
   ]
  },
  {
   "cell_type": "code",
   "execution_count": 17,
   "metadata": {
    "colab": {},
    "colab_type": "code",
    "id": "3NqNselLVrWA"
   },
   "outputs": [],
   "source": [
    "batch_size = 128\n",
    "epochs = 15\n",
    "IMG_HEIGHT = 100\n",
    "IMG_WIDTH = 100"
   ]
  },
  {
   "cell_type": "markdown",
   "metadata": {
    "colab_type": "text",
    "id": "INn-cOn1VrWC"
   },
   "source": [
    "## Data preparation"
   ]
  },
  {
   "cell_type": "markdown",
   "metadata": {
    "colab_type": "text",
    "id": "5Jfk6aSAVrWD"
   },
   "source": [
    "Format the images into appropriately pre-processed floating point tensors before feeding to the network:\n",
    "\n",
    "1. Read images from the disk.\n",
    "2. Decode contents of these images and convert it into proper grid format as per their RGB content.\n",
    "3. Convert them into floating point tensors.\n",
    "4. Rescale the tensors from values between 0 and 255 to values between 0 and 1, as neural networks prefer to deal with small input values.\n",
    "\n",
    "Fortunately, all these tasks can be done with the `ImageDataGenerator` class provided by `tf.keras`. It can read images from disk and preprocess them into proper tensors. It will also set up generators that convert these images into batches of tensors—helpful when training the network."
   ]
  },
  {
   "cell_type": "code",
   "execution_count": 18,
   "metadata": {
    "colab": {},
    "colab_type": "code",
    "id": "syDdF_LWVrWE"
   },
   "outputs": [],
   "source": [
    "train_image_generator = ImageDataGenerator(rescale=1./255) # Generator for our training data\n",
    "validation_image_generator = ImageDataGenerator(rescale=1./255) # Generator for our validation data"
   ]
  },
  {
   "cell_type": "markdown",
   "metadata": {
    "colab_type": "text",
    "id": "RLciCR_FVrWH"
   },
   "source": [
    "After defining the generators for training and validation images, the `flow_from_directory` method load images from the disk, applies rescaling, and resizes the images into the required dimensions."
   ]
  },
  {
   "cell_type": "code",
   "execution_count": 19,
   "metadata": {
    "colab": {},
    "colab_type": "code",
    "id": "Pw94ajOOVrWI"
   },
   "outputs": [
    {
     "name": "stdout",
     "output_type": "stream",
     "text": [
      "Found 2000 images belonging to 2 classes.\n"
     ]
    }
   ],
   "source": [
    "train_data_gen = train_image_generator.flow_from_directory(batch_size=batch_size,\n",
    "                                                           directory=train_dir,\n",
    "                                                           shuffle=True,\n",
    "                                                           target_size=(IMG_HEIGHT, IMG_WIDTH),\n",
    "                                                           class_mode='binary')"
   ]
  },
  {
   "cell_type": "code",
   "execution_count": 20,
   "metadata": {
    "colab": {},
    "colab_type": "code",
    "id": "2oUoKUzRVrWM"
   },
   "outputs": [
    {
     "name": "stdout",
     "output_type": "stream",
     "text": [
      "Found 1000 images belonging to 2 classes.\n"
     ]
    }
   ],
   "source": [
    "val_data_gen = validation_image_generator.flow_from_directory(batch_size=batch_size,\n",
    "                                                              directory=validation_dir,\n",
    "                                                              target_size=(IMG_HEIGHT, IMG_WIDTH),\n",
    "                                                              class_mode='binary')"
   ]
  },
  {
   "cell_type": "markdown",
   "metadata": {
    "colab_type": "text",
    "id": "hyexPJ8CVrWP"
   },
   "source": [
    "### Visualize training images"
   ]
  },
  {
   "cell_type": "markdown",
   "metadata": {
    "colab_type": "text",
    "id": "60CnhEL4VrWQ"
   },
   "source": [
    "Visualize the training images by extracting a batch of images from the training generator—which is 32 images in this example—then plot five of them with `matplotlib`."
   ]
  },
  {
   "cell_type": "code",
   "execution_count": 21,
   "metadata": {
    "colab": {},
    "colab_type": "code",
    "id": "3f0Z7NZgVrWQ"
   },
   "outputs": [
    {
     "data": {
      "text/plain": [
       "array([[[[0.4156863 , 0.28235295, 0.24705884],\n",
       "         [0.427451  , 0.29411766, 0.25882354],\n",
       "         [0.43921572, 0.30588236, 0.27058825],\n",
       "         ...,\n",
       "         [0.5372549 , 0.34509805, 0.2784314 ],\n",
       "         [0.1137255 , 0.08235294, 0.07058824],\n",
       "         [0.34901962, 0.20392159, 0.18039216]],\n",
       "\n",
       "        [[0.4156863 , 0.28235295, 0.24705884],\n",
       "         [0.427451  , 0.29411766, 0.25882354],\n",
       "         [0.427451  , 0.29411766, 0.25882354],\n",
       "         ...,\n",
       "         [0.5647059 , 0.37254903, 0.30588236],\n",
       "         [0.22352943, 0.14901961, 0.1254902 ],\n",
       "         [0.21960786, 0.10588236, 0.07450981]],\n",
       "\n",
       "        [[0.41176474, 0.2784314 , 0.24313727],\n",
       "         [0.42352945, 0.2901961 , 0.25490198],\n",
       "         [0.42352945, 0.28627452, 0.2784314 ],\n",
       "         ...,\n",
       "         [0.56078434, 0.38431376, 0.3019608 ],\n",
       "         [0.23137257, 0.15686275, 0.12941177],\n",
       "         [0.08235294, 0.03137255, 0.00784314]],\n",
       "\n",
       "        ...,\n",
       "\n",
       "        [[0.11764707, 0.09803922, 0.08627451],\n",
       "         [0.03921569, 0.04313726, 0.02352941],\n",
       "         [0.03921569, 0.04313726, 0.02352941],\n",
       "         ...,\n",
       "         [0.3254902 , 0.14901961, 0.16078432],\n",
       "         [0.29803923, 0.1764706 , 0.16470589],\n",
       "         [0.30588236, 0.18431373, 0.17254902]],\n",
       "\n",
       "        [[0.12941177, 0.10980393, 0.09803922],\n",
       "         [0.05882353, 0.03921569, 0.02745098],\n",
       "         [0.0627451 , 0.04313726, 0.03137255],\n",
       "         ...,\n",
       "         [0.16470589, 0.14509805, 0.06666667],\n",
       "         [0.30588236, 0.18431373, 0.16470589],\n",
       "         [0.29411766, 0.17254902, 0.16078432]],\n",
       "\n",
       "        [[0.1137255 , 0.09411766, 0.07058824],\n",
       "         [0.10196079, 0.08235294, 0.07058824],\n",
       "         [0.1764706 , 0.15686275, 0.14509805],\n",
       "         ...,\n",
       "         [0.09803922, 0.07450981, 0.09019608],\n",
       "         [0.14509805, 0.09803922, 0.09803922],\n",
       "         [0.24313727, 0.15294118, 0.12941177]]],\n",
       "\n",
       "\n",
       "       [[[0.54509807, 0.6666667 , 0.60784316],\n",
       "         [0.5568628 , 0.6784314 , 0.61960787],\n",
       "         [0.63529414, 0.7607844 , 0.7019608 ],\n",
       "         ...,\n",
       "         [0.9294118 , 0.89019614, 0.8431373 ],\n",
       "         [0.75294125, 0.7137255 , 0.6745098 ],\n",
       "         [0.8196079 , 0.7803922 , 0.74509805]],\n",
       "\n",
       "        [[0.44705886, 0.56078434, 0.4901961 ],\n",
       "         [0.43137258, 0.59607846, 0.50980395],\n",
       "         [0.45882356, 0.5882353 , 0.5137255 ],\n",
       "         ...,\n",
       "         [0.92549026, 0.882353  , 0.8588236 ],\n",
       "         [0.7607844 , 0.7176471 , 0.69411767],\n",
       "         [0.909804  , 0.8705883 , 0.8352942 ]],\n",
       "\n",
       "        [[0.63529414, 0.61960787, 0.58431375],\n",
       "         [0.68235296, 0.6392157 , 0.6156863 ],\n",
       "         [0.69803923, 0.6862745 , 0.6509804 ],\n",
       "         ...,\n",
       "         [0.9176471 , 0.882353  , 0.8235295 ],\n",
       "         [0.53333336, 0.49803925, 0.43921572],\n",
       "         [0.9294118 , 0.89019614, 0.854902  ]],\n",
       "\n",
       "        ...,\n",
       "\n",
       "        [[0.83921576, 0.7843138 , 0.7490196 ],\n",
       "         [0.78823537, 0.73333335, 0.69803923],\n",
       "         [0.7411765 , 0.6862745 , 0.6509804 ],\n",
       "         ...,\n",
       "         [0.80392164, 0.73333335, 0.6862745 ],\n",
       "         [0.8313726 , 0.7607844 , 0.7137255 ],\n",
       "         [0.8352942 , 0.7607844 , 0.7058824 ]],\n",
       "\n",
       "        [[0.7960785 , 0.7294118 , 0.69803923],\n",
       "         [0.7294118 , 0.6627451 , 0.6313726 ],\n",
       "         [0.81568635, 0.7568628 , 0.7294118 ],\n",
       "         ...,\n",
       "         [0.8431373 , 0.7686275 , 0.7411765 ],\n",
       "         [0.90196085, 0.82745105, 0.8000001 ],\n",
       "         [0.8470589 , 0.77647066, 0.7294118 ]],\n",
       "\n",
       "        [[0.7254902 , 0.6313726 , 0.6156863 ],\n",
       "         [0.80392164, 0.70980394, 0.69411767],\n",
       "         [0.80392164, 0.7294118 , 0.7058824 ],\n",
       "         ...,\n",
       "         [0.8352942 , 0.7568628 , 0.7294118 ],\n",
       "         [0.83921576, 0.7607844 , 0.73333335],\n",
       "         [0.85098046, 0.7725491 , 0.74509805]]],\n",
       "\n",
       "\n",
       "       [[[0.427451  , 0.32156864, 0.2392157 ],\n",
       "         [0.454902  , 0.33333334, 0.21960786],\n",
       "         [0.47058827, 0.3372549 , 0.227451  ],\n",
       "         ...,\n",
       "         [0.06666667, 0.03529412, 0.        ],\n",
       "         [0.3803922 , 0.23137257, 0.14901961],\n",
       "         [0.45098042, 0.2392157 , 0.14509805]],\n",
       "\n",
       "        [[0.47058827, 0.3372549 , 0.227451  ],\n",
       "         [0.47058827, 0.33333334, 0.22352943],\n",
       "         [0.4666667 , 0.32941177, 0.21960786],\n",
       "         ...,\n",
       "         [0.10588236, 0.05882353, 0.01176471],\n",
       "         [0.08627451, 0.14117648, 0.19215688],\n",
       "         [0.40000004, 0.18431373, 0.0627451 ]],\n",
       "\n",
       "        [[0.47058827, 0.3372549 , 0.227451  ],\n",
       "         [0.4666667 , 0.32941177, 0.21960786],\n",
       "         [0.45882356, 0.32156864, 0.21176472],\n",
       "         ...,\n",
       "         [0.06666667, 0.03137255, 0.        ],\n",
       "         [0.10588236, 0.10588236, 0.15294118],\n",
       "         [0.14117648, 0.15686275, 0.19215688]],\n",
       "\n",
       "        ...,\n",
       "\n",
       "        [[0.45098042, 0.3372549 , 0.27450982],\n",
       "         [0.4666667 , 0.35686275, 0.27450982],\n",
       "         [0.47450984, 0.34509805, 0.2784314 ],\n",
       "         ...,\n",
       "         [0.11764707, 0.16470589, 0.227451  ],\n",
       "         [0.1137255 , 0.15294118, 0.20000002],\n",
       "         [0.09019608, 0.12941177, 0.16862746]],\n",
       "\n",
       "        [[0.45098042, 0.34117648, 0.25882354],\n",
       "         [0.48235297, 0.3529412 , 0.2784314 ],\n",
       "         [0.49803925, 0.36862746, 0.29411766],\n",
       "         ...,\n",
       "         [0.10588236, 0.15294118, 0.21568629],\n",
       "         [0.10980393, 0.15686275, 0.21960786],\n",
       "         [0.10980393, 0.13725491, 0.1764706 ]],\n",
       "\n",
       "        [[0.48235297, 0.3529412 , 0.2784314 ],\n",
       "         [0.49803925, 0.36862746, 0.29411766],\n",
       "         [0.5176471 , 0.38823533, 0.3137255 ],\n",
       "         ...,\n",
       "         [0.1137255 , 0.16078432, 0.22352943],\n",
       "         [0.10980393, 0.14901961, 0.19607845],\n",
       "         [0.3372549 , 0.1764706 , 0.16078432]]],\n",
       "\n",
       "\n",
       "       ...,\n",
       "\n",
       "\n",
       "       [[[0.07843138, 0.06666667, 0.04705883],\n",
       "         [0.01176471, 0.00392157, 0.01568628],\n",
       "         [0.01176471, 0.00392157, 0.01568628],\n",
       "         ...,\n",
       "         [0.34117648, 0.29411766, 0.3019608 ],\n",
       "         [0.89019614, 0.83921576, 0.77647066],\n",
       "         [0.1254902 , 0.18823531, 0.1764706 ]],\n",
       "\n",
       "        [[0.0627451 , 0.04705883, 0.0509804 ],\n",
       "         [0.01568628, 0.00784314, 0.01960784],\n",
       "         [0.00784314, 0.00784314, 0.01568628],\n",
       "         ...,\n",
       "         [0.89019614, 0.85098046, 0.854902  ],\n",
       "         [0.15294118, 0.20784315, 0.14117648],\n",
       "         [0.15686275, 0.16470589, 0.16078432]],\n",
       "\n",
       "        [[0.07843138, 0.06666667, 0.03921569],\n",
       "         [0.00392157, 0.00392157, 0.01176471],\n",
       "         [0.01568628, 0.00784314, 0.01960784],\n",
       "         ...,\n",
       "         [0.9490197 , 0.90196085, 0.81568635],\n",
       "         [0.8980393 , 0.8588236 , 0.8235295 ],\n",
       "         [0.12156864, 0.11764707, 0.09803922]],\n",
       "\n",
       "        ...,\n",
       "\n",
       "        [[0.18823531, 0.14509805, 0.12156864],\n",
       "         [0.16078432, 0.11764707, 0.09411766],\n",
       "         [0.16470589, 0.12941177, 0.09411766],\n",
       "         ...,\n",
       "         [0.29803923, 0.23529413, 0.1764706 ],\n",
       "         [0.28235295, 0.20784315, 0.18039216],\n",
       "         [0.32156864, 0.24705884, 0.18039216]],\n",
       "\n",
       "        [[0.21960786, 0.19215688, 0.15294118],\n",
       "         [0.23137257, 0.19215688, 0.15686275],\n",
       "         [0.25490198, 0.19607845, 0.1764706 ],\n",
       "         ...,\n",
       "         [0.35686275, 0.28627452, 0.2392157 ],\n",
       "         [0.22352943, 0.18431373, 0.13725491],\n",
       "         [0.25882354, 0.20784315, 0.1764706 ]],\n",
       "\n",
       "        [[0.24313727, 0.18823531, 0.18431373],\n",
       "         [0.25882354, 0.21960786, 0.18431373],\n",
       "         [0.25490198, 0.21568629, 0.1764706 ],\n",
       "         ...,\n",
       "         [0.32941177, 0.25882354, 0.21176472],\n",
       "         [0.2627451 , 0.19607845, 0.1254902 ],\n",
       "         [0.3137255 , 0.2509804 , 0.18823531]]],\n",
       "\n",
       "\n",
       "       [[[0.09803922, 0.16862746, 0.06666667],\n",
       "         [0.14901961, 0.19607845, 0.11764707],\n",
       "         [0.70980394, 0.5176471 , 0.34901962],\n",
       "         ...,\n",
       "         [1.        , 0.5058824 , 0.38431376],\n",
       "         [0.9921569 , 0.54509807, 0.4431373 ],\n",
       "         [0.9921569 , 0.4901961 , 0.3529412 ]],\n",
       "\n",
       "        [[0.10588236, 0.18039216, 0.07058824],\n",
       "         [0.10980393, 0.18431373, 0.05882353],\n",
       "         [0.8431373 , 0.5803922 , 0.4039216 ],\n",
       "         ...,\n",
       "         [0.8705883 , 0.37647063, 0.31764707],\n",
       "         [0.9921569 , 0.48235297, 0.41960788],\n",
       "         [0.9960785 , 0.5411765 , 0.45098042]],\n",
       "\n",
       "        [[0.1254902 , 0.18823531, 0.08627451],\n",
       "         [0.5764706 , 0.48235297, 0.33333334],\n",
       "         [0.79215693, 0.5411765 , 0.36078432],\n",
       "         ...,\n",
       "         [0.7019608 , 0.48235297, 0.4156863 ],\n",
       "         [0.97647065, 0.34901962, 0.28627452],\n",
       "         [0.9450981 , 0.48627454, 0.45098042]],\n",
       "\n",
       "        ...,\n",
       "\n",
       "        [[0.49803925, 0.5921569 , 0.6       ],\n",
       "         [0.20784315, 0.03137255, 0.05882353],\n",
       "         [0.24705884, 0.0509804 , 0.04705883],\n",
       "         ...,\n",
       "         [0.54901963, 0.5529412 , 0.53333336],\n",
       "         [0.62352943, 0.62352943, 0.6156863 ],\n",
       "         [0.6       , 0.6039216 , 0.58431375]],\n",
       "\n",
       "        [[0.4901961 , 0.59607846, 0.6784314 ],\n",
       "         [0.09411766, 0.16078432, 0.20000002],\n",
       "         [0.20000002, 0.03137255, 0.06666667],\n",
       "         ...,\n",
       "         [0.6431373 , 0.64705884, 0.627451  ],\n",
       "         [0.5568628 , 0.56078434, 0.5411765 ],\n",
       "         [0.56078434, 0.5568628 , 0.5411765 ]],\n",
       "\n",
       "        [[0.5568628 , 0.69803923, 0.83921576],\n",
       "         [0.09411766, 0.15686275, 0.21568629],\n",
       "         [0.09803922, 0.1254902 , 0.19607845],\n",
       "         ...,\n",
       "         [0.60784316, 0.6039216 , 0.5882353 ],\n",
       "         [0.57254905, 0.57254905, 0.5647059 ],\n",
       "         [0.57254905, 0.5764706 , 0.5568628 ]]],\n",
       "\n",
       "\n",
       "       [[[0.5686275 , 0.57254905, 0.5176471 ],\n",
       "         [0.5568628 , 0.5529412 , 0.5372549 ],\n",
       "         [0.5803922 , 0.5882353 , 0.5764706 ],\n",
       "         ...,\n",
       "         [0.5529412 , 0.5647059 , 0.52156866],\n",
       "         [0.54509807, 0.5568628 , 0.5137255 ],\n",
       "         [0.5411765 , 0.56078434, 0.5372549 ]],\n",
       "\n",
       "        [[0.5137255 , 0.5058824 , 0.45882356],\n",
       "         [0.58431375, 0.5764706 , 0.5803922 ],\n",
       "         [0.5411765 , 0.54901963, 0.54509807],\n",
       "         ...,\n",
       "         [0.5529412 , 0.56078434, 0.5176471 ],\n",
       "         [0.5411765 , 0.5529412 , 0.50980395],\n",
       "         [0.54509807, 0.5568628 , 0.5137255 ]],\n",
       "\n",
       "        [[0.47450984, 0.4784314 , 0.45882356],\n",
       "         [0.5764706 , 0.5764706 , 0.54509807],\n",
       "         [0.5372549 , 0.52156866, 0.5176471 ],\n",
       "         ...,\n",
       "         [0.5294118 , 0.5411765 , 0.45882356],\n",
       "         [0.53333336, 0.5568628 , 0.50980395],\n",
       "         [0.53333336, 0.54509807, 0.5019608 ]],\n",
       "\n",
       "        ...,\n",
       "\n",
       "        [[0.31764707, 0.45882356, 0.6       ],\n",
       "         [0.28235295, 0.42352945, 0.5568628 ],\n",
       "         [0.30980393, 0.48627454, 0.60784316],\n",
       "         ...,\n",
       "         [0.45098042, 0.5764706 , 0.6666667 ],\n",
       "         [0.47450984, 0.60784316, 0.7058824 ],\n",
       "         [0.41176474, 0.5764706 , 0.6745098 ]],\n",
       "\n",
       "        [[0.26666668, 0.40784317, 0.54901963],\n",
       "         [0.3137255 , 0.454902  , 0.5882353 ],\n",
       "         [0.41960788, 0.5372549 , 0.64705884],\n",
       "         ...,\n",
       "         [0.49803925, 0.6509804 , 0.76470596],\n",
       "         [0.45882356, 0.61960787, 0.7372549 ],\n",
       "         [0.454902  , 0.5921569 , 0.7019608 ]],\n",
       "\n",
       "        [[0.23137257, 0.37254903, 0.5137255 ],\n",
       "         [0.28235295, 0.42352945, 0.5647059 ],\n",
       "         [0.26666668, 0.43137258, 0.5803922 ],\n",
       "         ...,\n",
       "         [0.5529412 , 0.69411767, 0.8196079 ],\n",
       "         [0.52156866, 0.69411767, 0.79215693],\n",
       "         [0.5254902 , 0.67058825, 0.77647066]]]], dtype=float32)"
      ]
     },
     "execution_count": 21,
     "metadata": {},
     "output_type": "execute_result"
    }
   ],
   "source": [
    "sample_training_images, _ = next(train_data_gen)\n",
    "sample_training_images"
   ]
  },
  {
   "cell_type": "markdown",
   "metadata": {
    "colab_type": "text",
    "id": "49weMt5YVrWT"
   },
   "source": [
    "The `next` function returns a batch from the dataset. The return value of `next` function is in form of `(x_train, y_train)` where x_train is training features and y_train, its labels. Discard the labels to only visualize the training images."
   ]
  },
  {
   "cell_type": "code",
   "execution_count": 22,
   "metadata": {
    "colab": {},
    "colab_type": "code",
    "id": "JMt2RES_VrWU"
   },
   "outputs": [],
   "source": [
    "# This function will plot images in the form of a grid with 1 row and 5 columns where images are placed in each column.\n",
    "def plotImages(images_arr):\n",
    "    fig, axes = plt.subplots(1, 5, figsize=(20,20))\n",
    "    axes = axes.flatten()\n",
    "    for img, ax in zip( images_arr, axes):\n",
    "        ax.imshow(img)\n",
    "        ax.axis('off')\n",
    "    plt.tight_layout()\n",
    "    plt.show()"
   ]
  },
  {
   "cell_type": "code",
   "execution_count": 23,
   "metadata": {
    "colab": {},
    "colab_type": "code",
    "id": "d_VVg_gEVrWW"
   },
   "outputs": [
    {
     "data": {
      "image/png": "[encoded data removed]",
      "text/plain": [
       "<Figure size 1440x1440 with 5 Axes>"
      ]
     },
     "metadata": {
      "needs_background": "light"
     },
     "output_type": "display_data"
    }
   ],
   "source": [
    "plotImages(sample_training_images[:5])"
   ]
  },
  {
   "cell_type": "markdown",
   "metadata": {
    "colab_type": "text",
    "id": "b5Ej-HLGVrWZ"
   },
   "source": [
    "## Create the model"
   ]
  },
  {
   "cell_type": "markdown",
   "metadata": {
    "colab_type": "text",
    "id": "wEgW4i18VrWZ"
   },
   "source": [
    "The model consists of three convolution blocks with a max pool layer in each of them. There's a fully connected layer with 512 units on top of it that is activated by a `relu` activation function. The model outputs class probabilities based on binary classification by the `sigmoid` activation function."
   ]
  },
  {
   "cell_type": "code",
   "execution_count": 24,
   "metadata": {
    "colab": {},
    "colab_type": "code",
    "id": "F15-uwLPVrWa"
   },
   "outputs": [],
   "source": [
    "model = Sequential([\n",
    "    Conv2D(16, 3, padding='same', activation='relu', input_shape=(IMG_HEIGHT, IMG_WIDTH ,3)),\n",
    "    MaxPooling2D(),\n",
    "    Conv2D(32, 3, padding='same', activation='relu'),\n",
    "    MaxPooling2D(),\n",
    "    Conv2D(64, 3, padding='same', activation='relu'),\n",
    "    MaxPooling2D(),\n",
    "    Flatten(),\n",
    "    Dense(512, activation='relu'),\n",
    "    Dense(1, activation='sigmoid')\n",
    "])"
   ]
  },
  {
   "cell_type": "markdown",
   "metadata": {
    "colab_type": "text",
    "id": "PI5cdkMQVrWc"
   },
   "source": [
    "### Compile the model\n",
    "\n",
    "For this tutorial, choose the *ADAM* optimizer and *binary cross entropy* loss function. To view training and validation accuracy for each training epoch, pass the `metrics` argument."
   ]
  },
  {
   "cell_type": "code",
   "execution_count": 25,
   "metadata": {
    "colab": {},
    "colab_type": "code",
    "id": "6Mg7_TXOVrWd"
   },
   "outputs": [],
   "source": [
    "model.compile(optimizer='adam',\n",
    "              loss='binary_crossentropy',\n",
    "              metrics=['accuracy'])"
   ]
  },
  {
   "cell_type": "markdown",
   "metadata": {
    "colab_type": "text",
    "id": "2YmQZ3TAVrWg"
   },
   "source": [
    "### Model summary\n",
    "\n",
    "View all the layers of the network using the model's `summary` method:"
   ]
  },
  {
   "cell_type": "code",
   "execution_count": 26,
   "metadata": {
    "colab": {},
    "colab_type": "code",
    "id": "Vtny8hmBVrWh"
   },
   "outputs": [
    {
     "name": "stdout",
     "output_type": "stream",
     "text": [
      "Model: \"sequential\"\n",
      "_________________________________________________________________\n",
      "Layer (type)                 Output Shape              Param #   \n",
      "=================================================================\n",
      "conv2d (Conv2D)              (None, 24, 24, 16)        448       \n",
      "_________________________________________________________________\n",
      "max_pooling2d (MaxPooling2D) (None, 12, 12, 16)        0         \n",
      "_________________________________________________________________\n",
      "conv2d_1 (Conv2D)            (None, 12, 12, 32)        4640      \n",
      "_________________________________________________________________\n",
      "max_pooling2d_1 (MaxPooling2 (None, 6, 6, 32)          0         \n",
      "_________________________________________________________________\n",
      "conv2d_2 (Conv2D)            (None, 6, 6, 64)          18496     \n",
      "_________________________________________________________________\n",
      "max_pooling2d_2 (MaxPooling2 (None, 3, 3, 64)          0         \n",
      "_________________________________________________________________\n",
      "flatten (Flatten)            (None, 576)               0         \n",
      "_________________________________________________________________\n",
      "dense (Dense)                (None, 512)               295424    \n",
      "_________________________________________________________________\n",
      "dense_1 (Dense)              (None, 1)                 513       \n",
      "=================================================================\n",
      "Total params: 319,521\n",
      "Trainable params: 319,521\n",
      "Non-trainable params: 0\n",
      "_________________________________________________________________\n"
     ]
    }
   ],
   "source": [
    "model.summary()"
   ]
  },
  {
   "cell_type": "markdown",
   "metadata": {
    "colab_type": "text",
    "id": "N06iqE8VVrWj"
   },
   "source": [
    "### Train the model"
   ]
  },
  {
   "cell_type": "markdown",
   "metadata": {
    "colab_type": "text",
    "id": "oub9RtoFVrWk"
   },
   "source": [
    "Use the `fit_generator` method of the `ImageDataGenerator` class to train the network."
   ]
  },
  {
   "cell_type": "code",
   "execution_count": 27,
   "metadata": {
    "colab": {},
    "colab_type": "code",
    "id": "KSF2HqhDVrWk"
   },
   "outputs": [
    {
     "name": "stdout",
     "output_type": "stream",
     "text": [
      "Epoch 1/15\n",
      "15/15 [==============================] - 9s 621ms/step - loss: 0.6966 - accuracy: 0.4893 - val_loss: 0.6892 - val_accuracy: 0.5246\n",
      "Epoch 2/15\n",
      "15/15 [==============================] - 9s 606ms/step - loss: 0.6857 - accuracy: 0.5801 - val_loss: 0.6819 - val_accuracy: 0.5179\n",
      "Epoch 3/15\n",
      "15/15 [==============================] - 9s 598ms/step - loss: 0.6726 - accuracy: 0.5694 - val_loss: 0.6493 - val_accuracy: 0.6473\n",
      "Epoch 4/15\n",
      "15/15 [==============================] - 9s 573ms/step - loss: 0.6459 - accuracy: 0.6297 - val_loss: 0.6737 - val_accuracy: 0.5804\n",
      "Epoch 5/15\n",
      "15/15 [==============================] - 8s 555ms/step - loss: 0.6309 - accuracy: 0.6393 - val_loss: 0.6429 - val_accuracy: 0.6127\n",
      "Epoch 6/15\n",
      "15/15 [==============================] - 8s 529ms/step - loss: 0.6007 - accuracy: 0.6640 - val_loss: 0.6011 - val_accuracy: 0.6730\n",
      "Epoch 7/15\n",
      "15/15 [==============================] - 9s 613ms/step - loss: 0.5830 - accuracy: 0.6912 - val_loss: 0.5877 - val_accuracy: 0.6920\n",
      "Epoch 8/15\n",
      "15/15 [==============================] - 9s 629ms/step - loss: 0.5404 - accuracy: 0.7219 - val_loss: 0.6215 - val_accuracy: 0.6663\n",
      "Epoch 9/15\n",
      "15/15 [==============================] - 9s 571ms/step - loss: 0.5365 - accuracy: 0.7318 - val_loss: 0.5841 - val_accuracy: 0.6886\n",
      "Epoch 10/15\n",
      "15/15 [==============================] - 7s 483ms/step - loss: 0.5237 - accuracy: 0.7415 - val_loss: 0.6104 - val_accuracy: 0.6708\n",
      "Epoch 11/15\n",
      "15/15 [==============================] - 7s 477ms/step - loss: 0.4747 - accuracy: 0.7959 - val_loss: 0.5849 - val_accuracy: 0.6964\n",
      "Epoch 12/15\n",
      "15/15 [==============================] - 7s 446ms/step - loss: 0.4664 - accuracy: 0.7815 - val_loss: 0.6145 - val_accuracy: 0.6596\n",
      "Epoch 13/15\n",
      "15/15 [==============================] - 7s 436ms/step - loss: 0.4467 - accuracy: 0.7917 - val_loss: 0.5904 - val_accuracy: 0.6864\n",
      "Epoch 14/15\n",
      "15/15 [==============================] - 6s 423ms/step - loss: 0.4139 - accuracy: 0.8141 - val_loss: 0.5877 - val_accuracy: 0.6842\n",
      "Epoch 15/15\n",
      "15/15 [==============================] - 6s 425ms/step - loss: 0.3632 - accuracy: 0.8536 - val_loss: 0.5964 - val_accuracy: 0.7009\n"
     ]
    }
   ],
   "source": [
    "history = model.fit_generator(\n",
    "    train_data_gen,\n",
    "    steps_per_epoch=total_train // batch_size,\n",
    "    epochs=epochs,\n",
    "    validation_data=val_data_gen,\n",
    "    validation_steps=total_val // batch_size\n",
    ")"
   ]
  },
  {
   "cell_type": "markdown",
   "metadata": {
    "colab_type": "text",
    "id": "ojJNteAGVrWo"
   },
   "source": [
    "### Visualize training results"
   ]
  },
  {
   "cell_type": "markdown",
   "metadata": {
    "colab_type": "text",
    "id": "LZPYT-EmVrWo"
   },
   "source": [
    "Now visualize the results after training the network."
   ]
  },
  {
   "cell_type": "code",
   "execution_count": 29,
   "metadata": {
    "colab": {},
    "colab_type": "code",
    "id": "K6oA77ADVrWp"
   },
   "outputs": [
    {
     "data": {
      "image/png": "[encoded data removed]",
      "text/plain": [
       "<Figure size 576x576 with 2 Axes>"
      ]
     },
     "metadata": {
      "needs_background": "light"
     },
     "output_type": "display_data"
    }
   ],
   "source": [
    "acc = history.history['accuracy']\n",
    "val_acc = history.history['val_accuracy']\n",
    "\n",
    "loss = history.history['loss']\n",
    "val_loss = history.history['val_loss']\n",
    "\n",
    "epochs_range = range(epochs)\n",
    "\n",
    "plt.figure(figsize=(8, 8))\n",
    "plt.subplot(1, 2, 1)\n",
    "plt.plot(epochs_range, acc, label='Training Accuracy')\n",
    "plt.plot(epochs_range, val_acc, label='Validation Accuracy')\n",
    "plt.legend(loc='lower right')\n",
    "plt.title('Training and Validation Accuracy')\n",
    "\n",
    "plt.subplot(1, 2, 2)\n",
    "plt.plot(epochs_range, loss, label='Training Loss')\n",
    "plt.plot(epochs_range, val_loss, label='Validation Loss')\n",
    "plt.legend(loc='upper right')\n",
    "plt.title('Training and Validation Loss')\n",
    "plt.show()"
   ]
  },
  {
   "cell_type": "markdown",
   "metadata": {
    "colab_type": "text",
    "id": "kDnr50l2VrWu"
   },
   "source": [
    "As you can see from the plots, training accuracy and validation accuracy are off by large margin and the model has achieved only around **70%** accuracy on the validation set.\n",
    "\n",
    "Let's look at what went wrong and try to increase overall performance of the model."
   ]
  },
  {
   "cell_type": "markdown",
   "metadata": {
    "colab_type": "text",
    "id": "rLO7yhLlVrWu"
   },
   "source": [
    "## Overfitting"
   ]
  },
  {
   "cell_type": "markdown",
   "metadata": {
    "colab_type": "text",
    "id": "hNyx3Lp4VrWv"
   },
   "source": [
    "In the plots above, the training accuracy is increasing linearly over time, whereas validation accuracy stalls around 70% in the training process. Also, the difference in accuracy between training and validation accuracy is noticeable—a sign of *overfitting*.\n",
    "\n",
    "When there are a small number of training examples, the model sometimes learns from noises or unwanted details from training examples—to an extent that it negatively impacts the performance of the model on new examples. This phenomenon is known as overfitting. It means that the model will have a difficult time generalizing on a new dataset.\n",
    "\n",
    "There are multiple ways to fight overfitting in the training process. In this tutorial, you'll use *data augmentation* and add *dropout* to our model."
   ]
  },
  {
   "cell_type": "markdown",
   "metadata": {
    "colab_type": "text",
    "id": "UOoVpxFwVrWy"
   },
   "source": [
    "## Data augmentation"
   ]
  },
  {
   "cell_type": "markdown",
   "metadata": {
    "colab_type": "text",
    "id": "Wn_QLciWVrWy"
   },
   "source": [
    "Overfitting generally occurs when there are a small number of training examples. One way to fix this problem is to augment the dataset so that it has a sufficient number of training examples. Data augmentation takes the approach of generating more training data from existing training samples by augmenting the samples using random transformations that yield believable-looking images. The goal is the model will never see the exact same picture twice during training. This helps expose the model to more aspects of the data and generalize better.\n",
    "\n",
    "Implement this in `tf.keras` using the `ImageDataGenerator` class. Pass  different transformations to the dataset and it will take care of applying it during the training process."
   ]
  },
  {
   "cell_type": "markdown",
   "metadata": {
    "colab_type": "text",
    "id": "2uJ1G030VrWz"
   },
   "source": [
    "### Augment and visualize data"
   ]
  },
  {
   "cell_type": "markdown",
   "metadata": {
    "colab_type": "text",
    "id": "hvX7hHlgVrW0"
   },
   "source": [
    "Begin by applying random horizontal flip augmentation to the dataset and see how individual images look like after the transformation."
   ]
  },
  {
   "cell_type": "markdown",
   "metadata": {
    "colab_type": "text",
    "id": "rlVj6VqaVrW0"
   },
   "source": [
    "### Apply horizontal flip"
   ]
  },
  {
   "cell_type": "markdown",
   "metadata": {
    "colab_type": "text",
    "id": "xcdvx4TVVrW1"
   },
   "source": [
    "Pass `horizontal_flip` as an argument to the `ImageDataGenerator` class and set it to `True` to apply this augmentation."
   ]
  },
  {
   "cell_type": "code",
   "execution_count": 30,
   "metadata": {
    "colab": {},
    "colab_type": "code",
    "id": "Bi1_vHyBVrW2"
   },
   "outputs": [],
   "source": [
    "image_gen = ImageDataGenerator(rescale=1./255, horizontal_flip=True)"
   ]
  },
  {
   "cell_type": "code",
   "execution_count": 31,
   "metadata": {
    "colab": {},
    "colab_type": "code",
    "id": "zvwqmefgVrW3"
   },
   "outputs": [
    {
     "name": "stdout",
     "output_type": "stream",
     "text": [
      "Found 2000 images belonging to 2 classes.\n"
     ]
    }
   ],
   "source": [
    "train_data_gen = image_gen.flow_from_directory(batch_size=batch_size,\n",
    "                                               directory=train_dir,\n",
    "                                               shuffle=True,\n",
    "                                               target_size=(IMG_HEIGHT, IMG_WIDTH))"
   ]
  },
  {
   "cell_type": "markdown",
   "metadata": {
    "colab_type": "text",
    "id": "zJpRSxJ-VrW7"
   },
   "source": [
    "Take one sample image from the training examples and repeat it five times so that the augmentation is applied to the same image five times."
   ]
  },
  {
   "cell_type": "code",
   "execution_count": 32,
   "metadata": {
    "colab": {},
    "colab_type": "code",
    "id": "RrKGd_jjVrW7"
   },
   "outputs": [],
   "source": [
    "augmented_images = [train_data_gen[0][0][0] for i in range(5)]"
   ]
  },
  {
   "cell_type": "code",
   "execution_count": 33,
   "metadata": {
    "colab": {},
    "colab_type": "code",
    "id": "EvBZoQ9xVrW9"
   },
   "outputs": [
    {
     "data": {
      "image/png": "[encoded data removed]",
      "text/plain": [
       "<Figure size 1440x1440 with 5 Axes>"
      ]
     },
     "metadata": {
      "needs_background": "light"
     },
     "output_type": "display_data"
    }
   ],
   "source": [
    "# Re-use the same custom plotting function defined and used\n",
    "# above to visualize the training images\n",
    "plotImages(augmented_images)"
   ]
  },
  {
   "cell_type": "markdown",
   "metadata": {
    "colab_type": "text",
    "id": "i7n9xcqCVrXB"
   },
   "source": [
    "### Randomly rotate the image"
   ]
  },
  {
   "cell_type": "markdown",
   "metadata": {
    "colab_type": "text",
    "id": "qXnwkzFuVrXB"
   },
   "source": [
    "Let's take a look at a different augmentation called rotation and apply 45 degrees of rotation randomly to the training examples."
   ]
  },
  {
   "cell_type": "code",
   "execution_count": 34,
   "metadata": {
    "colab": {},
    "colab_type": "code",
    "id": "1zip35pDVrXB"
   },
   "outputs": [],
   "source": [
    "image_gen = ImageDataGenerator(rescale=1./255, rotation_range=45)"
   ]
  },
  {
   "cell_type": "code",
   "execution_count": 35,
   "metadata": {
    "colab": {},
    "colab_type": "code",
    "id": "kVoWh4OIVrXD"
   },
   "outputs": [
    {
     "name": "stdout",
     "output_type": "stream",
     "text": [
      "Found 2000 images belonging to 2 classes.\n"
     ]
    }
   ],
   "source": [
    "train_data_gen = image_gen.flow_from_directory(batch_size=batch_size,\n",
    "                                               directory=train_dir,\n",
    "                                               shuffle=True,\n",
    "                                               target_size=(IMG_HEIGHT, IMG_WIDTH))\n",
    "\n",
    "augmented_images = [train_data_gen[0][0][0] for i in range(5)]"
   ]
  },
  {
   "cell_type": "code",
   "execution_count": 36,
   "metadata": {
    "colab": {},
    "colab_type": "code",
    "id": "wmBx8NhrVrXK"
   },
   "outputs": [
    {
     "data": {
      "image/png": "[encoded data removed]",
      "text/plain": [
       "<Figure size 1440x1440 with 5 Axes>"
      ]
     },
     "metadata": {
      "needs_background": "light"
     },
     "output_type": "display_data"
    }
   ],
   "source": [
    "plotImages(augmented_images)"
   ]
  },
  {
   "cell_type": "markdown",
   "metadata": {
    "colab_type": "text",
    "id": "FOqGPL76VrXM"
   },
   "source": [
    "### Apply zoom augmentation"
   ]
  },
  {
   "cell_type": "markdown",
   "metadata": {
    "colab_type": "text",
    "id": "NvqXaD8BVrXN"
   },
   "source": [
    "Apply a zoom augmentation to the dataset to zoom images up to 50% randomly."
   ]
  },
  {
   "cell_type": "code",
   "execution_count": 37,
   "metadata": {
    "colab": {},
    "colab_type": "code",
    "id": "tGNKLa_YVrXR"
   },
   "outputs": [],
   "source": [
    "# zoom_range from 0 - 1 where 1 = 100%.\n",
    "image_gen = ImageDataGenerator(rescale=1./255, zoom_range=0.5) # "
   ]
  },
  {
   "cell_type": "code",
   "execution_count": 38,
   "metadata": {
    "colab": {},
    "colab_type": "code",
    "id": "VOvTs32FVrXU"
   },
   "outputs": [
    {
     "name": "stdout",
     "output_type": "stream",
     "text": [
      "Found 2000 images belonging to 2 classes.\n"
     ]
    }
   ],
   "source": [
    "train_data_gen = image_gen.flow_from_directory(batch_size=batch_size,\n",
    "                                               directory=train_dir,\n",
    "                                               shuffle=True,\n",
    "                                               target_size=(IMG_HEIGHT, IMG_WIDTH))\n",
    "\n",
    "augmented_images = [train_data_gen[0][0][0] for i in range(5)]"
   ]
  },
  {
   "cell_type": "code",
   "execution_count": 39,
   "metadata": {
    "colab": {},
    "colab_type": "code",
    "id": "-KQWw8IZVrXZ"
   },
   "outputs": [
    {
     "data": {
      "image/png": "[encoded data removed]",
      "text/plain": [
       "<Figure size 1440x1440 with 5 Axes>"
      ]
     },
     "metadata": {
      "needs_background": "light"
     },
     "output_type": "display_data"
    }
   ],
   "source": [
    "plotImages(augmented_images)"
   ]
  },
  {
   "cell_type": "markdown",
   "metadata": {
    "colab_type": "text",
    "id": "usS13KCNVrXd"
   },
   "source": [
    "### Put it all together"
   ]
  },
  {
   "cell_type": "markdown",
   "metadata": {
    "colab_type": "text",
    "id": "OC8fIsalVrXd"
   },
   "source": [
    "Apply all the previous augmentations. Here, you applied rescale, 45 degree rotation, width shift, height shift, horizontal flip and zoom augmentation to the training images."
   ]
  },
  {
   "cell_type": "code",
   "execution_count": 40,
   "metadata": {
    "colab": {},
    "colab_type": "code",
    "id": "gnr2xujaVrXe"
   },
   "outputs": [],
   "source": [
    "image_gen_train = ImageDataGenerator(\n",
    "                    rescale=1./255,\n",
    "                    rotation_range=45,\n",
    "                    width_shift_range=.15,\n",
    "                    height_shift_range=.15,\n",
    "                    horizontal_flip=True,\n",
    "                    zoom_range=0.5\n",
    "                    )"
   ]
  },
  {
   "cell_type": "code",
   "execution_count": 41,
   "metadata": {
    "colab": {},
    "colab_type": "code",
    "id": "K0Efxy7EVrXh"
   },
   "outputs": [
    {
     "name": "stdout",
     "output_type": "stream",
     "text": [
      "Found 2000 images belonging to 2 classes.\n"
     ]
    }
   ],
   "source": [
    "train_data_gen = image_gen_train.flow_from_directory(batch_size=batch_size,\n",
    "                                                     directory=train_dir,\n",
    "                                                     shuffle=True,\n",
    "                                                     target_size=(IMG_HEIGHT, IMG_WIDTH),\n",
    "                                                     class_mode='binary')"
   ]
  },
  {
   "cell_type": "markdown",
   "metadata": {
    "colab_type": "text",
    "id": "AW-pV5awVrXl"
   },
   "source": [
    "Visualize how a single image would look five different times when passing these augmentations randomly to the dataset."
   ]
  },
  {
   "cell_type": "code",
   "execution_count": 42,
   "metadata": {
    "colab": {},
    "colab_type": "code",
    "id": "z2m68eMhVrXm"
   },
   "outputs": [
    {
     "data": {
      "image/png": "[encoded data removed]",
      "text/plain": [
       "<Figure size 1440x1440 with 5 Axes>"
      ]
     },
     "metadata": {
      "needs_background": "light"
     },
     "output_type": "display_data"
    }
   ],
   "source": [
    "augmented_images = [train_data_gen[0][0][0] for i in range(5)]\n",
    "plotImages(augmented_images)"
   ]
  },
  {
   "cell_type": "markdown",
   "metadata": {
    "colab_type": "text",
    "id": "J8cUd7FXVrXq"
   },
   "source": [
    "### Create validation data generator"
   ]
  },
  {
   "cell_type": "markdown",
   "metadata": {
    "colab_type": "text",
    "id": "a99fDBt7VrXr"
   },
   "source": [
    "Generally, only apply data augmentation to the training examples. In this case, only rescale the validation images and convert them into batches using `ImageDataGenerator`."
   ]
  },
  {
   "cell_type": "code",
   "execution_count": 43,
   "metadata": {
    "colab": {},
    "colab_type": "code",
    "id": "54x0aNbKVrXr"
   },
   "outputs": [],
   "source": [
    "image_gen_val = ImageDataGenerator(rescale=1./255)"
   ]
  },
  {
   "cell_type": "code",
   "execution_count": 44,
   "metadata": {
    "colab": {},
    "colab_type": "code",
    "id": "1PCHKzI8VrXv"
   },
   "outputs": [
    {
     "name": "stdout",
     "output_type": "stream",
     "text": [
      "Found 1000 images belonging to 2 classes.\n"
     ]
    }
   ],
   "source": [
    "val_data_gen = image_gen_val.flow_from_directory(batch_size=batch_size,\n",
    "                                                 directory=validation_dir,\n",
    "                                                 target_size=(IMG_HEIGHT, IMG_WIDTH),\n",
    "                                                 class_mode='binary')"
   ]
  },
  {
   "cell_type": "markdown",
   "metadata": {
    "colab_type": "text",
    "id": "yQGhdqHFVrXx"
   },
   "source": [
    "## Dropout"
   ]
  },
  {
   "cell_type": "markdown",
   "metadata": {
    "colab_type": "text",
    "id": "2Iq5TAH_VrXx"
   },
   "source": [
    "Another technique to reduce overfitting is to introduce *dropout* to the network. It is a form of *regularization* that forces the weights in the network to take only small values, which makes the distribution of weight values more regular and the network can reduce overfitting on small training examples. Dropout is one of the regularization technique used in this tutorial\n",
    "\n",
    "When you apply dropout to a layer it randomly drops out (set to zero) number of output units from the applied layer during the training process. Dropout takes a fractional number as its input value, in the form such as 0.1, 0.2, 0.4, etc. This means dropping out 10%, 20% or 40% of the output units randomly from the applied layer.\n",
    "\n",
    "When appling 0.1 dropout to a certain layer, it randomly kills 10% of the output units in each training epoch.\n",
    "\n",
    "Create a network architecture with this new dropout feature and apply it to different convolutions and fully-connected layers."
   ]
  },
  {
   "cell_type": "markdown",
   "metadata": {
    "colab_type": "text",
    "id": "DyxxXRmVVrXy"
   },
   "source": [
    "## Creating a new network with Dropouts"
   ]
  },
  {
   "cell_type": "markdown",
   "metadata": {
    "colab_type": "text",
    "id": "1Ba2LjtkVrXy"
   },
   "source": [
    "Here, you apply dropout to first and last max pool layers. Applying dropout will randomly set 20% of the neurons to zero during each training epoch. This helps to avoid overfitting on the training dataset."
   ]
  },
  {
   "cell_type": "code",
   "execution_count": 45,
   "metadata": {
    "colab": {},
    "colab_type": "code",
    "id": "2fjio8EsVrXz"
   },
   "outputs": [],
   "source": [
    "model_new = Sequential([\n",
    "    Conv2D(16, 3, padding='same', activation='relu', \n",
    "           input_shape=(IMG_HEIGHT, IMG_WIDTH ,3)),\n",
    "    MaxPooling2D(),\n",
    "    Dropout(0.2),\n",
    "    Conv2D(32, 3, padding='same', activation='relu'),\n",
    "    MaxPooling2D(),\n",
    "    Conv2D(64, 3, padding='same', activation='relu'),\n",
    "    MaxPooling2D(),\n",
    "    Dropout(0.2),\n",
    "    Flatten(),\n",
    "    Dense(512, activation='relu'),\n",
    "    Dense(1, activation='sigmoid')\n",
    "])"
   ]
  },
  {
   "cell_type": "markdown",
   "metadata": {
    "colab_type": "text",
    "id": "tpTgIxWAVrX0"
   },
   "source": [
    "### Compile the model"
   ]
  },
  {
   "cell_type": "markdown",
   "metadata": {
    "colab_type": "text",
    "id": "1osvc_iTVrX1"
   },
   "source": [
    "After introducing dropouts to the network, compile the model and view the layers summary."
   ]
  },
  {
   "cell_type": "code",
   "execution_count": 46,
   "metadata": {
    "colab": {},
    "colab_type": "code",
    "id": "OkIJhS-WVrX1"
   },
   "outputs": [
    {
     "name": "stdout",
     "output_type": "stream",
     "text": [
      "Model: \"sequential_1\"\n",
      "_________________________________________________________________\n",
      "Layer (type)                 Output Shape              Param #   \n",
      "=================================================================\n",
      "conv2d_3 (Conv2D)            (None, 24, 24, 16)        448       \n",
      "_________________________________________________________________\n",
      "max_pooling2d_3 (MaxPooling2 (None, 12, 12, 16)        0         \n",
      "_________________________________________________________________\n",
      "dropout (Dropout)            (None, 12, 12, 16)        0         \n",
      "_________________________________________________________________\n",
      "conv2d_4 (Conv2D)            (None, 12, 12, 32)        4640      \n",
      "_________________________________________________________________\n",
      "max_pooling2d_4 (MaxPooling2 (None, 6, 6, 32)          0         \n",
      "_________________________________________________________________\n",
      "conv2d_5 (Conv2D)            (None, 6, 6, 64)          18496     \n",
      "_________________________________________________________________\n",
      "max_pooling2d_5 (MaxPooling2 (None, 3, 3, 64)          0         \n",
      "_________________________________________________________________\n",
      "dropout_1 (Dropout)          (None, 3, 3, 64)          0         \n",
      "_________________________________________________________________\n",
      "flatten_1 (Flatten)          (None, 576)               0         \n",
      "_________________________________________________________________\n",
      "dense_2 (Dense)              (None, 512)               295424    \n",
      "_________________________________________________________________\n",
      "dense_3 (Dense)              (None, 1)                 513       \n",
      "=================================================================\n",
      "Total params: 319,521\n",
      "Trainable params: 319,521\n",
      "Non-trainable params: 0\n",
      "_________________________________________________________________\n"
     ]
    }
   ],
   "source": [
    "model_new.compile(optimizer='adam',\n",
    "              loss='binary_crossentropy',\n",
    "              metrics=['accuracy'])\n",
    "\n",
    "model_new.summary()"
   ]
  },
  {
   "cell_type": "markdown",
   "metadata": {
    "colab_type": "text",
    "id": "7KiDshEUVrX6"
   },
   "source": [
    "### Train the model"
   ]
  },
  {
   "cell_type": "markdown",
   "metadata": {
    "colab_type": "text",
    "id": "NFj0oVqVVrX6"
   },
   "source": [
    "After successfully introducing data augmentations to the training examples and adding dropouts to the network, train this new network:"
   ]
  },
  {
   "cell_type": "code",
   "execution_count": 47,
   "metadata": {
    "colab": {},
    "colab_type": "code",
    "id": "GWxHs_luVrX7"
   },
   "outputs": [
    {
     "name": "stdout",
     "output_type": "stream",
     "text": [
      "Epoch 1/15\n",
      "15/15 [==============================] - 11s 740ms/step - loss: 0.6946 - accuracy: 0.5059 - val_loss: 0.6908 - val_accuracy: 0.5045\n",
      "Epoch 2/15\n",
      "15/15 [==============================] - 10s 651ms/step - loss: 0.6925 - accuracy: 0.5160 - val_loss: 0.6882 - val_accuracy: 0.5112\n",
      "Epoch 3/15\n",
      "15/15 [==============================] - 9s 595ms/step - loss: 0.6897 - accuracy: 0.5278 - val_loss: 0.6805 - val_accuracy: 0.5949\n",
      "Epoch 4/15\n",
      "15/15 [==============================] - 9s 578ms/step - loss: 0.6844 - accuracy: 0.5604 - val_loss: 0.6723 - val_accuracy: 0.5368\n",
      "Epoch 5/15\n",
      "15/15 [==============================] - 9s 572ms/step - loss: 0.6769 - accuracy: 0.5684 - val_loss: 0.6427 - val_accuracy: 0.6551\n",
      "Epoch 6/15\n",
      "15/15 [==============================] - 8s 555ms/step - loss: 0.6660 - accuracy: 0.5908 - val_loss: 0.6772 - val_accuracy: 0.5413\n",
      "Epoch 7/15\n",
      "15/15 [==============================] - 8s 553ms/step - loss: 0.6739 - accuracy: 0.5688 - val_loss: 0.6515 - val_accuracy: 0.5848\n",
      "Epoch 8/15\n",
      "15/15 [==============================] - 8s 536ms/step - loss: 0.6602 - accuracy: 0.5967 - val_loss: 0.6559 - val_accuracy: 0.5781\n",
      "Epoch 9/15\n",
      "15/15 [==============================] - 8s 507ms/step - loss: 0.6489 - accuracy: 0.6173 - val_loss: 0.6431 - val_accuracy: 0.6116\n",
      "Epoch 10/15\n",
      "15/15 [==============================] - 8s 501ms/step - loss: 0.6554 - accuracy: 0.6084 - val_loss: 0.6415 - val_accuracy: 0.6105\n",
      "Epoch 11/15\n",
      "15/15 [==============================] - 8s 501ms/step - loss: 0.6469 - accuracy: 0.6172 - val_loss: 0.6413 - val_accuracy: 0.6027\n",
      "Epoch 12/15\n",
      "15/15 [==============================] - 7s 483ms/step - loss: 0.6619 - accuracy: 0.6058 - val_loss: 0.6286 - val_accuracy: 0.6261\n",
      "Epoch 13/15\n",
      "15/15 [==============================] - 9s 573ms/step - loss: 0.6396 - accuracy: 0.6365 - val_loss: 0.6009 - val_accuracy: 0.6942\n",
      "Epoch 14/15\n",
      "15/15 [==============================] - 8s 525ms/step - loss: 0.6538 - accuracy: 0.6031 - val_loss: 0.6083 - val_accuracy: 0.6652\n",
      "Epoch 15/15\n",
      "15/15 [==============================] - 9s 582ms/step - loss: 0.6489 - accuracy: 0.6106 - val_loss: 0.6360 - val_accuracy: 0.5993\n"
     ]
    }
   ],
   "source": [
    "history = model_new.fit_generator(\n",
    "    train_data_gen,\n",
    "    steps_per_epoch=total_train // batch_size,\n",
    "    epochs=epochs,\n",
    "    validation_data=val_data_gen,\n",
    "    validation_steps=total_val // batch_size\n",
    ")"
   ]
  },
  {
   "cell_type": "markdown",
   "metadata": {
    "colab_type": "text",
    "id": "bbdyqZdxVrYA"
   },
   "source": [
    "### Visualize the model"
   ]
  },
  {
   "cell_type": "markdown",
   "metadata": {
    "colab_type": "text",
    "id": "OgvF2nt7OtR7"
   },
   "source": [
    "Visualize the new model after training, you can see that there is significantly less overfitting than before. The accuracy should go up after training the model for more epochs."
   ]
  },
  {
   "cell_type": "code",
   "execution_count": 48,
   "metadata": {
    "colab": {},
    "colab_type": "code",
    "id": "7BTeMuNAVrYC"
   },
   "outputs": [
    {
     "ename": "KeyError",
     "evalue": "'acc'",
     "output_type": "error",
     "traceback": [
      "\u001b[1;31m-----------------------------------------------------------------------\u001b[0m",
      "\u001b[1;31mKeyError\u001b[0m                              Traceback (most recent call last)",
      "\u001b[1;32m<ipython-input-48-864effe67568>\u001b[0m in \u001b[0;36m<module>\u001b[1;34m\u001b[0m\n\u001b[1;32m----> 1\u001b[1;33m \u001b[0macc\u001b[0m \u001b[1;33m=\u001b[0m \u001b[0mhistory\u001b[0m\u001b[1;33m.\u001b[0m\u001b[0mhistory\u001b[0m\u001b[1;33m[\u001b[0m\u001b[1;34m'acc'\u001b[0m\u001b[1;33m]\u001b[0m\u001b[1;33m\u001b[0m\u001b[1;33m\u001b[0m\u001b[0m\n\u001b[0m\u001b[0;32m      2\u001b[0m \u001b[0mval_acc\u001b[0m \u001b[1;33m=\u001b[0m \u001b[0mhistory\u001b[0m\u001b[1;33m.\u001b[0m\u001b[0mhistory\u001b[0m\u001b[1;33m[\u001b[0m\u001b[1;34m'val_acc'\u001b[0m\u001b[1;33m]\u001b[0m\u001b[1;33m\u001b[0m\u001b[1;33m\u001b[0m\u001b[0m\n\u001b[0;32m      3\u001b[0m \u001b[1;33m\u001b[0m\u001b[0m\n\u001b[0;32m      4\u001b[0m \u001b[0mloss\u001b[0m \u001b[1;33m=\u001b[0m \u001b[0mhistory\u001b[0m\u001b[1;33m.\u001b[0m\u001b[0mhistory\u001b[0m\u001b[1;33m[\u001b[0m\u001b[1;34m'loss'\u001b[0m\u001b[1;33m]\u001b[0m\u001b[1;33m\u001b[0m\u001b[1;33m\u001b[0m\u001b[0m\n\u001b[0;32m      5\u001b[0m \u001b[0mval_loss\u001b[0m \u001b[1;33m=\u001b[0m \u001b[0mhistory\u001b[0m\u001b[1;33m.\u001b[0m\u001b[0mhistory\u001b[0m\u001b[1;33m[\u001b[0m\u001b[1;34m'val_loss'\u001b[0m\u001b[1;33m]\u001b[0m\u001b[1;33m\u001b[0m\u001b[1;33m\u001b[0m\u001b[0m\n",
      "\u001b[1;31mKeyError\u001b[0m: 'acc'"
     ]
    }
   ],
   "source": [
    "acc = history.history['accuracy']\n",
    "val_acc = history.history['val_accuracy']\n",
    "\n",
    "loss = history.history['loss']\n",
    "val_loss = history.history['val_loss']\n",
    "\n",
    "epochs_range = range(epochs)\n",
    "\n",
    "plt.figure(figsize=(8, 8))\n",
    "plt.subplot(1, 2, 1)\n",
    "plt.plot(epochs_range, acc, label='Training Accuracy')\n",
    "plt.plot(epochs_range, val_acc, label='Validation Accuracy')\n",
    "plt.legend(loc='lower right')\n",
    "plt.title('Training and Validation Accuracy')\n",
    "\n",
    "plt.subplot(1, 2, 2)\n",
    "plt.plot(epochs_range, loss, label='Training Loss')\n",
    "plt.plot(epochs_range, val_loss, label='Validation Loss')\n",
    "plt.legend(loc='upper right')\n",
    "plt.title('Training and Validation Loss')\n",
    "plt.show()"
   ]
  }
 ],
 "metadata": {
  "accelerator": "GPU",
  "colab": {
   "collapsed_sections": [],
   "name": "classification.ipynb",
   "private_outputs": true,
   "provenance": [],
   "toc_visible": true,
   "version": "0.3.2"
  },
  "kernelspec": {
   "display_name": "Python 3",
   "language": "python",
   "name": "python3"
  },
  "language_info": {
   "codemirror_mode": {
    "name": "ipython",
    "version": 3
   },
   "file_extension": ".py",
   "mimetype": "text/x-python",
   "name": "python",
   "nbconvert_exporter": "python",
   "pygments_lexer": "ipython3",
   "version": "3.7.6"
  }
 },
 "nbformat": 4,
 "nbformat_minor": 1
}
