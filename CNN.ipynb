{
 "cells": [
  {
   "cell_type": "markdown",
   "metadata": {
    "colab_type": "text",
    "id": "TBFXQGKYUc4X"
   },
   "source": [
    "##### Copyright 2018 The TensorFlow Authors."
   ]
  },
  {
   "cell_type": "markdown",
   "metadata": {
    "colab_type": "text",
    "id": "zF9uvbXNVrVY"
   },
   "source": [
    "## Import packages"
   ]
  },
  {
   "cell_type": "markdown",
   "metadata": {
    "colab_type": "text",
    "id": "VddxeYBEVrVZ"
   },
   "source": [
    "Let's start by importing the required packages. The `os` package is used to read files and directory structure, NumPy is used to convert python list to numpy array and to perform required matrix operations and `matplotlib.pyplot` to plot the graph and display images in the training and validation data."
   ]
  },
  {
   "cell_type": "code",
   "execution_count": 86,
   "metadata": {
    "colab": {},
    "colab_type": "code",
    "id": "rtPGh2MAVrVa"
   },
   "outputs": [],
   "source": [
    "from __future__ import absolute_import, division, print_function, unicode_literals\n",
    "import tensorflow as tf\n",
    "\n",
    "from tensorflow.keras.models import Sequential\n",
    "from tensorflow.keras.layers import Dense, Conv2D, Flatten, Dropout, MaxPooling2D\n",
    "from tensorflow.keras.preprocessing.image import ImageDataGenerator\n",
    "\n",
    "import os\n",
    "import numpy as np\n",
    "import matplotlib.pyplot as plt"
   ]
  },
  {
   "cell_type": "markdown",
   "metadata": {
    "colab_type": "text",
    "id": "UZZI6lNkVrVm"
   },
   "source": [
    "## Load data"
   ]
  },
  {
   "cell_type": "code",
   "execution_count": 87,
   "metadata": {
    "colab": {},
    "colab_type": "code",
    "id": "C1nqr-CYY6uw"
   },
   "outputs": [],
   "source": [
    "PATH = \"c:\\Work\\MLcourse2018June\\cats_and_dogs_filtered\"\n",
    "PATH_train = \"c:\\Work\\MLcourse2018June\\cats_and_dogs\""
   ]
  },
  {
   "cell_type": "markdown",
   "metadata": {
    "colab_type": "text",
    "id": "VpmywIlsVrVx"
   },
   "source": [
    "After extracting its contents, assign variables with the proper file path for the training and validation set."
   ]
  },
  {
   "cell_type": "code",
   "execution_count": 88,
   "metadata": {
    "colab": {},
    "colab_type": "code",
    "id": "sRucI3QqVrVy"
   },
   "outputs": [],
   "source": [
    "train_dir = os.path.join(PATH_train, 'train')\n",
    "validation_dir = os.path.join(PATH, 'validation')"
   ]
  },
  {
   "cell_type": "code",
   "execution_count": 89,
   "metadata": {
    "colab": {},
    "colab_type": "code",
    "id": "Utv3nryxVrV0"
   },
   "outputs": [],
   "source": [
    "train_cats_dir = os.path.join(train_dir, 'cats')  # directory with our training cat pictures\n",
    "train_dogs_dir = os.path.join(train_dir, 'dogs')  # directory with our training dog pictures\n",
    "validation_cats_dir = os.path.join(validation_dir, 'cats')  # directory with our validation cat pictures\n",
    "validation_dogs_dir = os.path.join(validation_dir, 'dogs')  # directory with our validation dog pictures"
   ]
  },
  {
   "cell_type": "markdown",
   "metadata": {
    "colab_type": "text",
    "id": "ZdrHHTy2VrV3"
   },
   "source": [
    "### Understand the data"
   ]
  },
  {
   "cell_type": "markdown",
   "metadata": {
    "colab_type": "text",
    "id": "LblUYjl-VrV3"
   },
   "source": [
    "Let's look at how many cats and dogs images are in the training and validation directory:"
   ]
  },
  {
   "cell_type": "code",
   "execution_count": 90,
   "metadata": {
    "colab": {},
    "colab_type": "code",
    "id": "vc4u8e9hVrV4"
   },
   "outputs": [],
   "source": [
    "num_cats_tr = len(os.listdir(train_cats_dir))\n",
    "num_dogs_tr = len(os.listdir(train_dogs_dir))\n",
    "\n",
    "num_cats_val = len(os.listdir(validation_cats_dir))\n",
    "num_dogs_val = len(os.listdir(validation_dogs_dir))\n",
    "\n",
    "total_train = num_cats_tr + num_dogs_tr\n",
    "total_val = num_cats_val + num_dogs_val"
   ]
  },
  {
   "cell_type": "code",
   "execution_count": 91,
   "metadata": {
    "colab": {},
    "colab_type": "code",
    "id": "g4GGzGt0VrV7"
   },
   "outputs": [
    {
     "name": "stdout",
     "output_type": "stream",
     "text": [
      "total training cat images: 12500\n",
      "total training dog images: 12500\n",
      "total validation cat images: 500\n",
      "total validation dog images: 500\n",
      "--\n",
      "Total training images: 25000\n",
      "Total validation images: 1000\n"
     ]
    }
   ],
   "source": [
    "print('total training cat images:', num_cats_tr)\n",
    "print('total training dog images:', num_dogs_tr)\n",
    "\n",
    "print('total validation cat images:', num_cats_val)\n",
    "print('total validation dog images:', num_dogs_val)\n",
    "print(\"--\")\n",
    "print(\"Total training images:\", total_train)\n",
    "print(\"Total validation images:\", total_val)"
   ]
  },
  {
   "cell_type": "markdown",
   "metadata": {
    "colab_type": "text",
    "id": "8Lp-0ejxOtP1"
   },
   "source": [
    "For convenience, set up variables to use while pre-processing the dataset and training the network."
   ]
  },
  {
   "cell_type": "code",
   "execution_count": 92,
   "metadata": {
    "colab": {},
    "colab_type": "code",
    "id": "3NqNselLVrWA"
   },
   "outputs": [],
   "source": [
    "batch_size = 128\n",
    "epochs = 15\n",
    "IMG_HEIGHT = 24\n",
    "IMG_WIDTH = 24"
   ]
  },
  {
   "cell_type": "markdown",
   "metadata": {
    "colab_type": "text",
    "id": "INn-cOn1VrWC"
   },
   "source": [
    "## Data preparation"
   ]
  },
  {
   "cell_type": "markdown",
   "metadata": {
    "colab_type": "text",
    "id": "5Jfk6aSAVrWD"
   },
   "source": [
    "Format the images into appropriately pre-processed floating point tensors before feeding to the network:\n",
    "\n",
    "1. Read images from the disk.\n",
    "2. Decode contents of these images and convert it into proper grid format as per their RGB content.\n",
    "3. Convert them into floating point tensors.\n",
    "4. Rescale the tensors from values between 0 and 255 to values between 0 and 1, as neural networks prefer to deal with small input values.\n",
    "\n",
    "Fortunately, all these tasks can be done with the `ImageDataGenerator` class provided by `tf.keras`. It can read images from disk and preprocess them into proper tensors. It will also set up generators that convert these images into batches of tensors—helpful when training the network."
   ]
  },
  {
   "cell_type": "code",
   "execution_count": 93,
   "metadata": {
    "colab": {},
    "colab_type": "code",
    "id": "syDdF_LWVrWE"
   },
   "outputs": [],
   "source": [
    "train_image_generator = ImageDataGenerator(rescale=1./255) # Generator for our training data\n",
    "validation_image_generator = ImageDataGenerator(rescale=1./255) # Generator for our validation data"
   ]
  },
  {
   "cell_type": "markdown",
   "metadata": {
    "colab_type": "text",
    "id": "RLciCR_FVrWH"
   },
   "source": [
    "After defining the generators for training and validation images, the `flow_from_directory` method load images from the disk, applies rescaling, and resizes the images into the required dimensions."
   ]
  },
  {
   "cell_type": "code",
   "execution_count": 94,
   "metadata": {
    "colab": {},
    "colab_type": "code",
    "id": "Pw94ajOOVrWI"
   },
   "outputs": [
    {
     "name": "stdout",
     "output_type": "stream",
     "text": [
      "Found 25000 images belonging to 2 classes.\n"
     ]
    }
   ],
   "source": [
    "train_data_gen = train_image_generator.flow_from_directory(batch_size=batch_size,\n",
    "                                                           directory=train_dir,\n",
    "                                                           shuffle=True,\n",
    "                                                           target_size=(IMG_HEIGHT, IMG_WIDTH),\n",
    "                                                           class_mode='binary')"
   ]
  },
  {
   "cell_type": "code",
   "execution_count": 95,
   "metadata": {
    "colab": {},
    "colab_type": "code",
    "id": "2oUoKUzRVrWM"
   },
   "outputs": [
    {
     "name": "stdout",
     "output_type": "stream",
     "text": [
      "Found 1000 images belonging to 2 classes.\n"
     ]
    }
   ],
   "source": [
    "val_data_gen = validation_image_generator.flow_from_directory(batch_size=batch_size,\n",
    "                                                              directory=validation_dir,\n",
    "                                                              target_size=(IMG_HEIGHT, IMG_WIDTH),\n",
    "                                                              class_mode='binary')"
   ]
  },
  {
   "cell_type": "markdown",
   "metadata": {
    "colab_type": "text",
    "id": "hyexPJ8CVrWP"
   },
   "source": [
    "### Visualize training images"
   ]
  },
  {
   "cell_type": "markdown",
   "metadata": {
    "colab_type": "text",
    "id": "60CnhEL4VrWQ"
   },
   "source": [
    "Visualize the training images by extracting a batch of images from the training generator—which is 32 images in this example—then plot five of them with `matplotlib`."
   ]
  },
  {
   "cell_type": "code",
   "execution_count": 96,
   "metadata": {
    "colab": {},
    "colab_type": "code",
    "id": "3f0Z7NZgVrWQ"
   },
   "outputs": [
    {
     "data": {
      "text/plain": [
       "array([[[[0.17254902, 0.1764706 , 0.15686275],\n",
       "         [0.14901961, 0.14509805, 0.12941177],\n",
       "         [0.10980393, 0.10588236, 0.09019608],\n",
       "         ...,\n",
       "         [0.3254902 , 0.3372549 , 0.35686275],\n",
       "         [0.3647059 , 0.36862746, 0.38823533],\n",
       "         [0.3529412 , 0.38431376, 0.39607847]],\n",
       "\n",
       "        [[0.18431373, 0.18039216, 0.16470589],\n",
       "         [0.17254902, 0.15686275, 0.15294118],\n",
       "         [0.1254902 , 0.12156864, 0.10196079],\n",
       "         ...,\n",
       "         [0.3254902 , 0.3372549 , 0.35686275],\n",
       "         [0.35686275, 0.36078432, 0.3803922 ],\n",
       "         [0.36862746, 0.37254903, 0.3921569 ]],\n",
       "\n",
       "        [[0.18039216, 0.1764706 , 0.16078432],\n",
       "         [0.14117648, 0.14901961, 0.13725491],\n",
       "         [0.09803922, 0.12156864, 0.12156864],\n",
       "         ...,\n",
       "         [0.3254902 , 0.3372549 , 0.35686275],\n",
       "         [0.34117648, 0.36078432, 0.37647063],\n",
       "         [0.36862746, 0.38823533, 0.4039216 ]],\n",
       "\n",
       "        ...,\n",
       "\n",
       "        [[0.30588236, 0.45882356, 0.5882353 ],\n",
       "         [0.3137255 , 0.46274513, 0.6039216 ],\n",
       "         [0.34117648, 0.4901961 , 0.6313726 ],\n",
       "         ...,\n",
       "         [0.4156863 , 0.34117648, 0.28627452],\n",
       "         [0.3647059 , 0.28627452, 0.24313727],\n",
       "         [0.35686275, 0.2784314 , 0.23529413]],\n",
       "\n",
       "        [[0.29411766, 0.44705886, 0.5764706 ],\n",
       "         [0.31764707, 0.4666667 , 0.60784316],\n",
       "         [0.3372549 , 0.48627454, 0.627451  ],\n",
       "         ...,\n",
       "         [0.40000004, 0.3254902 , 0.27058825],\n",
       "         [0.3921569 , 0.3137255 , 0.27058825],\n",
       "         [0.3647059 , 0.28627452, 0.24313727]],\n",
       "\n",
       "        [[0.29803923, 0.4431373 , 0.5568628 ],\n",
       "         [0.32156864, 0.46274513, 0.59607846],\n",
       "         [0.33333334, 0.48627454, 0.6156863 ],\n",
       "         ...,\n",
       "         [0.41176474, 0.30588236, 0.27058825],\n",
       "         [0.4039216 , 0.32941177, 0.27058825],\n",
       "         [0.37254903, 0.28235295, 0.25882354]]],\n",
       "\n",
       "\n",
       "       [[[0.28627452, 0.36078432, 0.4156863 ],\n",
       "         [0.2901961 , 0.35686275, 0.38823533],\n",
       "         [0.34509805, 0.4039216 , 0.4156863 ],\n",
       "         ...,\n",
       "         [0.81568635, 0.7843138 , 0.7411765 ],\n",
       "         [0.94117653, 0.9058824 , 0.8705883 ],\n",
       "         [0.25490198, 0.2392157 , 0.20392159]],\n",
       "\n",
       "        [[0.29803923, 0.3647059 , 0.4039216 ],\n",
       "         [0.28627452, 0.36078432, 0.38823533],\n",
       "         [0.3803922 , 0.454902  , 0.48235297],\n",
       "         ...,\n",
       "         [1.        , 0.98823535, 0.9568628 ],\n",
       "         [0.8196079 , 0.7686275 , 0.7372549 ],\n",
       "         [0.27058825, 0.23529413, 0.21568629]],\n",
       "\n",
       "        [[0.2509804 , 0.30980393, 0.3372549 ],\n",
       "         [0.28627452, 0.35686275, 0.39607847],\n",
       "         [0.3019608 , 0.37647063, 0.43137258],\n",
       "         ...,\n",
       "         [0.9803922 , 0.9215687 , 0.90196085],\n",
       "         [0.69803923, 0.6392157 , 0.61960787],\n",
       "         [0.3137255 , 0.27058825, 0.2627451 ]],\n",
       "\n",
       "        ...,\n",
       "\n",
       "        [[0.30588236, 0.36862746, 0.41960788],\n",
       "         [0.3803922 , 0.41960788, 0.45882356],\n",
       "         [0.5529412 , 0.5568628 , 0.57254905],\n",
       "         ...,\n",
       "         [0.4901961 , 0.44705886, 0.43137258],\n",
       "         [0.29411766, 0.29803923, 0.3137255 ],\n",
       "         [0.34117648, 0.38431376, 0.40784317]],\n",
       "\n",
       "        [[0.39607847, 0.45098042, 0.46274513],\n",
       "         [0.5058824 , 0.5411765 , 0.5372549 ],\n",
       "         [0.52156866, 0.5254902 , 0.5019608 ],\n",
       "         ...,\n",
       "         [0.9450981 , 0.909804  , 0.89019614],\n",
       "         [0.3529412 , 0.35686275, 0.37254903],\n",
       "         [0.2901961 , 0.3254902 , 0.3529412 ]],\n",
       "\n",
       "        [[0.5137255 , 0.54901963, 0.5294118 ],\n",
       "         [0.5254902 , 0.54509807, 0.5176471 ],\n",
       "         [0.5568628 , 0.5568628 , 0.50980395],\n",
       "         ...,\n",
       "         [0.31764707, 0.2901961 , 0.26666668],\n",
       "         [0.34117648, 0.35686275, 0.36862746],\n",
       "         [0.2784314 , 0.3137255 , 0.34117648]]],\n",
       "\n",
       "\n",
       "       [[[0.12941177, 0.12156864, 0.1254902 ],\n",
       "         [0.12941177, 0.12156864, 0.1254902 ],\n",
       "         [0.11764707, 0.1137255 , 0.10588236],\n",
       "         ...,\n",
       "         [0.43921572, 0.38823533, 0.3529412 ],\n",
       "         [0.27450982, 0.21176472, 0.2509804 ],\n",
       "         [0.28235295, 0.24313727, 0.24705884]],\n",
       "\n",
       "        [[0.1137255 , 0.1137255 , 0.1137255 ],\n",
       "         [0.14901961, 0.14509805, 0.13725491],\n",
       "         [0.43921572, 0.41960788, 0.34117648],\n",
       "         ...,\n",
       "         [0.2392157 , 0.19607845, 0.11764707],\n",
       "         [0.16078432, 0.13725491, 0.14509805],\n",
       "         [0.14117648, 0.11764707, 0.1254902 ]],\n",
       "\n",
       "        [[0.16078432, 0.13333334, 0.10980393],\n",
       "         [0.25882354, 0.20392159, 0.16862746],\n",
       "         [0.28235295, 0.24313727, 0.20784315],\n",
       "         ...,\n",
       "         [0.14901961, 0.1254902 , 0.13333334],\n",
       "         [0.12941177, 0.12156864, 0.1254902 ],\n",
       "         [0.13333334, 0.1254902 , 0.12941177]],\n",
       "\n",
       "        ...,\n",
       "\n",
       "        [[0.5921569 , 0.5294118 , 0.43137258],\n",
       "         [0.34117648, 0.3529412 , 0.30980393],\n",
       "         [0.7019608 , 0.70980394, 0.5647059 ],\n",
       "         ...,\n",
       "         [0.2784314 , 0.23137257, 0.2392157 ],\n",
       "         [0.2509804 , 0.20392159, 0.21176472],\n",
       "         [0.20392159, 0.16862746, 0.17254902]],\n",
       "\n",
       "        [[0.38823533, 0.3803922 , 0.32941177],\n",
       "         [0.46274513, 0.45882356, 0.45098042],\n",
       "         [0.28235295, 0.25882354, 0.26666668],\n",
       "         ...,\n",
       "         [0.18431373, 0.14901961, 0.15294118],\n",
       "         [0.22352943, 0.18823531, 0.19215688],\n",
       "         [0.23137257, 0.18431373, 0.19215688]],\n",
       "\n",
       "        [[0.48235297, 0.48627454, 0.49411768],\n",
       "         [0.50980395, 0.50980395, 0.4784314 ],\n",
       "         [0.4156863 , 0.39607847, 0.3803922 ],\n",
       "         ...,\n",
       "         [0.22352943, 0.18823531, 0.19215688],\n",
       "         [0.227451  , 0.19215688, 0.19607845],\n",
       "         [0.24705884, 0.21176472, 0.21568629]]],\n",
       "\n",
       "\n",
       "       ...,\n",
       "\n",
       "\n",
       "       [[[0.06666667, 0.06666667, 0.07450981],\n",
       "         [0.46274513, 0.46274513, 0.50980395],\n",
       "         [0.5176471 , 0.5058824 , 0.57254905],\n",
       "         ...,\n",
       "         [0.21960786, 0.19215688, 0.22352943],\n",
       "         [0.18039216, 0.16078432, 0.18823531],\n",
       "         [0.15686275, 0.14509805, 0.17254902]],\n",
       "\n",
       "        [[0.12941177, 0.12156864, 0.13333334],\n",
       "         [0.53333336, 0.5137255 , 0.6039216 ],\n",
       "         [0.5411765 , 0.53333336, 0.5882353 ],\n",
       "         ...,\n",
       "         [0.3529412 , 0.3372549 , 0.3921569 ],\n",
       "         [0.227451  , 0.19607845, 0.2392157 ],\n",
       "         [0.18823531, 0.16078432, 0.19215688]],\n",
       "\n",
       "        [[0.31764707, 0.28235295, 0.3019608 ],\n",
       "         [0.52156866, 0.5058824 , 0.57254905],\n",
       "         [0.5568628 , 0.54901963, 0.6039216 ],\n",
       "         ...,\n",
       "         [0.8313726 , 0.81568635, 0.8705883 ],\n",
       "         [0.24705884, 0.21568629, 0.25882354],\n",
       "         [0.20000002, 0.17254902, 0.20392159]],\n",
       "\n",
       "        ...,\n",
       "\n",
       "        [[0.69803923, 0.6666667 , 0.7176471 ],\n",
       "         [0.6313726 , 0.62352943, 0.6745098 ],\n",
       "         [0.6431373 , 0.63529414, 0.6862745 ],\n",
       "         ...,\n",
       "         [0.63529414, 0.59607846, 0.6392157 ],\n",
       "         [0.54509807, 0.5058824 , 0.54901963],\n",
       "         [0.5058824 , 0.48235297, 0.52156866]],\n",
       "\n",
       "        [[0.5882353 , 0.5882353 , 0.63529414],\n",
       "         [0.6039216 , 0.59607846, 0.64705884],\n",
       "         [0.62352943, 0.6117647 , 0.64705884],\n",
       "         ...,\n",
       "         [0.62352943, 0.6117647 , 0.6784314 ],\n",
       "         [0.62352943, 0.6117647 , 0.6784314 ],\n",
       "         [0.64705884, 0.6431373 , 0.7058824 ]],\n",
       "\n",
       "        [[0.5372549 , 0.5372549 , 0.58431375],\n",
       "         [0.57254905, 0.5647059 , 0.6156863 ],\n",
       "         [0.59607846, 0.58431375, 0.61960787],\n",
       "         ...,\n",
       "         [0.5764706 , 0.5647059 , 0.6313726 ],\n",
       "         [0.54901963, 0.5372549 , 0.6039216 ],\n",
       "         [0.52156866, 0.5176471 , 0.5803922 ]]],\n",
       "\n",
       "\n",
       "       [[[0.45882356, 0.4431373 , 0.34509805],\n",
       "         [0.53333336, 0.56078434, 0.39607847],\n",
       "         [0.04705883, 0.01176471, 0.01568628],\n",
       "         ...,\n",
       "         [0.56078434, 0.6666667 , 0.73333335],\n",
       "         [0.6784314 , 0.8313726 , 0.85098046],\n",
       "         [0.654902  , 0.80392164, 0.8078432 ]],\n",
       "\n",
       "        [[0.53333336, 0.5529412 , 0.3921569 ],\n",
       "         [0.47450984, 0.5137255 , 0.36862746],\n",
       "         [0.03921569, 0.00392157, 0.00784314],\n",
       "         ...,\n",
       "         [0.882353  , 0.882353  , 0.89019614],\n",
       "         [0.9568628 , 0.9176471 , 0.882353  ],\n",
       "         [0.9450981 , 0.9176471 , 0.854902  ]],\n",
       "\n",
       "        [[0.52156866, 0.54901963, 0.38431376],\n",
       "         [0.12156864, 0.10980393, 0.03529412],\n",
       "         [0.03921569, 0.00392157, 0.00784314],\n",
       "         ...,\n",
       "         [0.8352942 , 0.7843138 , 0.85098046],\n",
       "         [0.854902  , 0.8235295 , 0.882353  ],\n",
       "         [0.8745099 , 0.8235295 , 0.89019614]],\n",
       "\n",
       "        ...,\n",
       "\n",
       "        [[0.93725497, 0.9607844 , 1.        ],\n",
       "         [0.9921569 , 0.9960785 , 1.        ],\n",
       "         [0.9686275 , 0.9725491 , 0.9921569 ],\n",
       "         ...,\n",
       "         [0.5921569 , 0.6509804 , 0.7254902 ],\n",
       "         [0.5254902 , 0.59607846, 0.6431373 ],\n",
       "         [0.454902  , 0.48627454, 0.5372549 ]],\n",
       "\n",
       "        [[0.9686275 , 0.96470594, 0.9843138 ],\n",
       "         [0.98823535, 0.9921569 , 1.        ],\n",
       "         [0.9607844 , 0.9686275 , 1.        ],\n",
       "         ...,\n",
       "         [0.79215693, 0.80392164, 0.8313726 ],\n",
       "         [0.7686275 , 0.8078432 , 0.8470589 ],\n",
       "         [0.47450984, 0.54901963, 0.6156863 ]],\n",
       "\n",
       "        [[0.5254902 , 0.6156863 , 0.7803922 ],\n",
       "         [0.79215693, 0.8313726 , 0.8705883 ],\n",
       "         [0.9607844 , 0.9686275 , 1.        ],\n",
       "         ...,\n",
       "         [0.7843138 , 0.7960785 , 0.8313726 ],\n",
       "         [0.64705884, 0.6509804 , 0.67058825],\n",
       "         [0.7019608 , 0.7137255 , 0.73333335]]],\n",
       "\n",
       "\n",
       "       [[[0.7843138 , 0.7686275 , 0.73333335],\n",
       "         [0.8078432 , 0.79215693, 0.7568628 ],\n",
       "         [0.8196079 , 0.80392164, 0.7686275 ],\n",
       "         ...,\n",
       "         [0.87843144, 0.8941177 , 0.89019614],\n",
       "         [0.87843144, 0.8941177 , 0.89019614],\n",
       "         [0.87843144, 0.8980393 , 0.8745099 ]],\n",
       "\n",
       "        [[0.80392164, 0.78823537, 0.75294125],\n",
       "         [0.8000001 , 0.7843138 , 0.7490196 ],\n",
       "         [0.8078432 , 0.79215693, 0.7568628 ],\n",
       "         ...,\n",
       "         [0.8745099 , 0.89019614, 0.8862746 ],\n",
       "         [0.8745099 , 0.89019614, 0.8862746 ],\n",
       "         [0.8745099 , 0.89019614, 0.8862746 ]],\n",
       "\n",
       "        [[0.8078432 , 0.79215693, 0.7568628 ],\n",
       "         [0.81568635, 0.8000001 , 0.76470596],\n",
       "         [0.81568635, 0.8000001 , 0.76470596],\n",
       "         ...,\n",
       "         [0.8588236 , 0.8745099 , 0.8705883 ],\n",
       "         [0.8705883 , 0.8705883 , 0.8705883 ],\n",
       "         [0.8705883 , 0.8705883 , 0.8705883 ]],\n",
       "\n",
       "        ...,\n",
       "\n",
       "        [[0.6431373 , 0.6156863 , 0.54509807],\n",
       "         [0.6431373 , 0.6156863 , 0.54509807],\n",
       "         [0.6392157 , 0.62352943, 0.5764706 ],\n",
       "         ...,\n",
       "         [0.77647066, 0.78823537, 0.8235295 ],\n",
       "         [0.7686275 , 0.7803922 , 0.81568635],\n",
       "         [0.7607844 , 0.7725491 , 0.8078432 ]],\n",
       "\n",
       "        [[0.627451  , 0.6       , 0.5294118 ],\n",
       "         [0.6392157 , 0.6117647 , 0.5411765 ],\n",
       "         [0.627451  , 0.6156863 , 0.5411765 ],\n",
       "         ...,\n",
       "         [0.74509805, 0.7568628 , 0.77647066],\n",
       "         [0.74509805, 0.7568628 , 0.77647066],\n",
       "         [0.7568628 , 0.75294125, 0.77647066]],\n",
       "\n",
       "        [[0.60784316, 0.5803922 , 0.50980395],\n",
       "         [0.61960787, 0.5921569 , 0.52156866],\n",
       "         [0.6156863 , 0.6039216 , 0.5294118 ],\n",
       "         ...,\n",
       "         [0.75294125, 0.7490196 , 0.7725491 ],\n",
       "         [0.7411765 , 0.7372549 , 0.7607844 ],\n",
       "         [0.7490196 , 0.74509805, 0.7686275 ]]]], dtype=float32)"
      ]
     },
     "execution_count": 96,
     "metadata": {},
     "output_type": "execute_result"
    }
   ],
   "source": [
    "sample_training_images, _ = next(train_data_gen)\n",
    "sample_training_images"
   ]
  },
  {
   "cell_type": "markdown",
   "metadata": {
    "colab_type": "text",
    "id": "49weMt5YVrWT"
   },
   "source": [
    "The `next` function returns a batch from the dataset. The return value of `next` function is in form of `(x_train, y_train)` where x_train is training features and y_train, its labels. Discard the labels to only visualize the training images."
   ]
  },
  {
   "cell_type": "code",
   "execution_count": 97,
   "metadata": {
    "colab": {},
    "colab_type": "code",
    "id": "JMt2RES_VrWU"
   },
   "outputs": [],
   "source": [
    "# This function will plot images in the form of a grid with 1 row and 5 columns where images are placed in each column.\n",
    "def plotImages(images_arr):\n",
    "    fig, axes = plt.subplots(1, 5, figsize=(20,20))\n",
    "    axes = axes.flatten()\n",
    "    for img, ax in zip( images_arr, axes):\n",
    "        ax.imshow(img)\n",
    "        ax.axis('off')\n",
    "    plt.tight_layout()\n",
    "    plt.show()"
   ]
  },
  {
   "cell_type": "code",
   "execution_count": 98,
   "metadata": {
    "colab": {},
    "colab_type": "code",
    "id": "d_VVg_gEVrWW"
   },
   "outputs": [
    {
     "data": {
      "image/png": "[encoded data removed]",
      "text/plain": [
       "<Figure size 1440x1440 with 5 Axes>"
      ]
     },
     "metadata": {
      "needs_background": "light"
     },
     "output_type": "display_data"
    }
   ],
   "source": [
    "plotImages(sample_training_images[:5])"
   ]
  },
  {
   "cell_type": "markdown",
   "metadata": {
    "colab_type": "text",
    "id": "b5Ej-HLGVrWZ"
   },
   "source": [
    "## Create the model"
   ]
  },
  {
   "cell_type": "markdown",
   "metadata": {
    "colab_type": "text",
    "id": "wEgW4i18VrWZ"
   },
   "source": [
    "The model consists of three convolution blocks with a max pool layer in each of them. There's a fully connected layer with 512 units on top of it that is activated by a `relu` activation function. The model outputs class probabilities based on binary classification by the `sigmoid` activation function."
   ]
  },
  {
   "cell_type": "code",
   "execution_count": null,
   "metadata": {
    "colab": {},
    "colab_type": "code",
    "id": "F15-uwLPVrWa"
   },
   "outputs": [],
   "source": [
    "model = Sequential([\n",
    "    Conv2D(16, 3, padding='same', activation='relu', input_shape=(IMG_HEIGHT, IMG_WIDTH ,3)),\n",
    "    MaxPooling2D(),\n",
    "    Conv2D(32, 3, padding='same', activation='relu'),\n",
    "    MaxPooling2D(),\n",
    "    Conv2D(64, 3, padding='same', activation='relu'),\n",
    "    MaxPooling2D(),\n",
    "    Flatten(),\n",
    "    Dense(512, activation='relu'),\n",
    "    Dense(1, activation='sigmoid')\n",
    "])"
   ]
  },
  {
   "cell_type": "markdown",
   "metadata": {
    "colab_type": "text",
    "id": "PI5cdkMQVrWc"
   },
   "source": [
    "### Compile the model\n",
    "\n",
    "For this tutorial, choose the *ADAM* optimizer and *binary cross entropy* loss function. To view training and validation accuracy for each training epoch, pass the `metrics` argument."
   ]
  },
  {
   "cell_type": "code",
   "execution_count": null,
   "metadata": {
    "colab": {},
    "colab_type": "code",
    "id": "6Mg7_TXOVrWd"
   },
   "outputs": [],
   "source": [
    "model.compile(optimizer='adam',\n",
    "              loss='binary_crossentropy',\n",
    "              metrics=['accuracy'])"
   ]
  },
  {
   "cell_type": "markdown",
   "metadata": {
    "colab_type": "text",
    "id": "2YmQZ3TAVrWg"
   },
   "source": [
    "### Model summary\n",
    "\n",
    "View all the layers of the network using the model's `summary` method:"
   ]
  },
  {
   "cell_type": "code",
   "execution_count": null,
   "metadata": {
    "colab": {},
    "colab_type": "code",
    "id": "Vtny8hmBVrWh"
   },
   "outputs": [
    {
     "name": "stdout",
     "output_type": "stream",
     "text": [
      "_________________________________________________________________\n",
      "Layer (type)                 Output Shape              Param #   \n",
      "=================================================================\n",
      "conv2d_12 (Conv2D)           (None, 24, 24, 16)        448       \n",
      "_________________________________________________________________\n",
      "max_pooling2d_12 (MaxPooling (None, 12, 12, 16)        0         \n",
      "_________________________________________________________________\n",
      "conv2d_13 (Conv2D)           (None, 12, 12, 32)        4640      \n",
      "_________________________________________________________________\n",
      "max_pooling2d_13 (MaxPooling (None, 6, 6, 32)          0         \n",
      "_________________________________________________________________\n",
      "conv2d_14 (Conv2D)           (None, 6, 6, 64)          18496     \n",
      "_________________________________________________________________\n",
      "max_pooling2d_14 (MaxPooling (None, 3, 3, 64)          0         \n",
      "_________________________________________________________________\n",
      "flatten_4 (Flatten)          (None, 576)               0         \n",
      "_________________________________________________________________\n",
      "dense_8 (Dense)              (None, 512)               295424    \n",
      "_________________________________________________________________\n",
      "dense_9 (Dense)              (None, 1)                 513       \n",
      "=================================================================\n",
      "Total params: 319,521\n",
      "Trainable params: 319,521\n",
      "Non-trainable params: 0\n",
      "_________________________________________________________________\n"
     ]
    }
   ],
   "source": [
    "model.summary()"
   ]
  },
  {
   "cell_type": "markdown",
   "metadata": {
    "colab_type": "text",
    "id": "N06iqE8VVrWj"
   },
   "source": [
    "### Train the model"
   ]
  },
  {
   "cell_type": "markdown",
   "metadata": {
    "colab_type": "text",
    "id": "oub9RtoFVrWk"
   },
   "source": [
    "Use the `fit_generator` method of the `ImageDataGenerator` class to train the network."
   ]
  },
  {
   "cell_type": "code",
   "execution_count": null,
   "metadata": {
    "colab": {},
    "colab_type": "code",
    "id": "KSF2HqhDVrWk"
   },
   "outputs": [
    {
     "name": "stdout",
     "output_type": "stream",
     "text": [
      "Epoch 1/15\n",
      "8/8 [==============================] - 4s 497ms/step - loss: 0.5679 - acc: 0.6930\n",
      "196/196 [==============================] - 189s 965ms/step - loss: 0.6378 - acc: 0.6257 - val_loss: 0.5679 - val_acc: 0.6930\n",
      "Epoch 2/15\n",
      "8/8 [==============================] - 3s 399ms/step - loss: 0.5109 - acc: 0.7370\n",
      "196/196 [==============================] - 95s 485ms/step - loss: 0.5528 - acc: 0.7162 - val_loss: 0.5109 - val_acc: 0.7370\n",
      "Epoch 3/15\n",
      "8/8 [==============================] - 3s 416ms/step - loss: 0.4746 - acc: 0.7610\n",
      "196/196 [==============================] - 76s 390ms/step - loss: 0.5112 - acc: 0.7478 - val_loss: 0.4746 - val_acc: 0.7610\n",
      "Epoch 4/15\n",
      "8/8 [==============================] - 3s 398ms/step - loss: 0.4510 - acc: 0.7740\n",
      "196/196 [==============================] - 76s 387ms/step - loss: 0.4778 - acc: 0.7698 - val_loss: 0.4510 - val_acc: 0.7740\n",
      "Epoch 5/15\n",
      "8/8 [==============================] - 3s 395ms/step - loss: 0.4105 - acc: 0.8080\n",
      "196/196 [==============================] - 76s 387ms/step - loss: 0.4571 - acc: 0.7830 - val_loss: 0.4105 - val_acc: 0.8080\n",
      "Epoch 6/15\n",
      "8/8 [==============================] - 3s 400ms/step - loss: 0.4101 - acc: 0.8040\n",
      "196/196 [==============================] - 77s 392ms/step - loss: 0.4351 - acc: 0.7995 - val_loss: 0.4101 - val_acc: 0.8040\n",
      "Epoch 7/15\n",
      "8/8 [==============================] - 4s 438ms/step - loss: 0.3669 - acc: 0.8520\n",
      "196/196 [==============================] - 76s 387ms/step - loss: 0.4144 - acc: 0.8104 - val_loss: 0.3669 - val_acc: 0.8520\n",
      "Epoch 8/15\n",
      "8/8 [==============================] - 3s 397ms/step - loss: 0.3925 - acc: 0.8240\n",
      "196/196 [==============================] - 75s 384ms/step - loss: 0.3925 - acc: 0.8224 - val_loss: 0.3925 - val_acc: 0.8240\n",
      "Epoch 9/15\n",
      "176/196 [=========================>....] - ETA: 7s - loss: 0.3657 - acc: 0.8377"
     ]
    }
   ],
   "source": [
    "history = model.fit_generator(\n",
    "    train_data_gen,\n",
    "    steps_per_epoch=total_train // batch_size,\n",
    "    epochs=epochs,\n",
    "    validation_data=val_data_gen,\n",
    "    validation_steps=total_val // batch_size\n",
    ")"
   ]
  },
  {
   "cell_type": "markdown",
   "metadata": {
    "colab_type": "text",
    "id": "ojJNteAGVrWo"
   },
   "source": [
    "### Visualize training results"
   ]
  },
  {
   "cell_type": "markdown",
   "metadata": {
    "colab_type": "text",
    "id": "LZPYT-EmVrWo"
   },
   "source": [
    "Now visualize the results after training the network."
   ]
  },
  {
   "cell_type": "code",
   "execution_count": null,
   "metadata": {
    "colab": {},
    "colab_type": "code",
    "id": "K6oA77ADVrWp"
   },
   "outputs": [],
   "source": [
    "acc = history.history['acc']\n",
    "val_acc = history.history['val_acc']\n",
    "\n",
    "loss = history.history['loss']\n",
    "val_loss = history.history['val_loss']\n",
    "\n",
    "epochs_range = range(epochs)\n",
    "\n",
    "plt.figure(figsize=(8, 8))\n",
    "plt.subplot(1, 2, 1)\n",
    "plt.plot(epochs_range, acc, label='Training Accuracy')\n",
    "plt.plot(epochs_range, val_acc, label='Validation Accuracy')\n",
    "plt.legend(loc='lower right')\n",
    "plt.title('Training and Validation Accuracy')\n",
    "\n",
    "plt.subplot(1, 2, 2)\n",
    "plt.plot(epochs_range, loss, label='Training Loss')\n",
    "plt.plot(epochs_range, val_loss, label='Validation Loss')\n",
    "plt.legend(loc='upper right')\n",
    "plt.title('Training and Validation Loss')\n",
    "plt.show()"
   ]
  },
  {
   "cell_type": "markdown",
   "metadata": {
    "colab_type": "text",
    "id": "kDnr50l2VrWu"
   },
   "source": [
    "As you can see from the plots, training accuracy and validation accuracy are off by large margin and the model has achieved only around **70%** accuracy on the validation set.\n",
    "\n",
    "Let's look at what went wrong and try to increase overall performance of the model."
   ]
  },
  {
   "cell_type": "markdown",
   "metadata": {
    "colab_type": "text",
    "id": "rLO7yhLlVrWu"
   },
   "source": [
    "## Overfitting"
   ]
  },
  {
   "cell_type": "markdown",
   "metadata": {
    "colab_type": "text",
    "id": "hNyx3Lp4VrWv"
   },
   "source": [
    "In the plots above, the training accuracy is increasing linearly over time, whereas validation accuracy stalls around 70% in the training process. Also, the difference in accuracy between training and validation accuracy is noticeable—a sign of *overfitting*.\n",
    "\n",
    "When there are a small number of training examples, the model sometimes learns from noises or unwanted details from training examples—to an extent that it negatively impacts the performance of the model on new examples. This phenomenon is known as overfitting. It means that the model will have a difficult time generalizing on a new dataset.\n",
    "\n",
    "There are multiple ways to fight overfitting in the training process. In this tutorial, you'll use *data augmentation* and add *dropout* to our model."
   ]
  },
  {
   "cell_type": "markdown",
   "metadata": {
    "colab_type": "text",
    "id": "UOoVpxFwVrWy"
   },
   "source": [
    "## Data augmentation"
   ]
  },
  {
   "cell_type": "markdown",
   "metadata": {
    "colab_type": "text",
    "id": "Wn_QLciWVrWy"
   },
   "source": [
    "Overfitting generally occurs when there are a small number of training examples. One way to fix this problem is to augment the dataset so that it has a sufficient number of training examples. Data augmentation takes the approach of generating more training data from existing training samples by augmenting the samples using random transformations that yield believable-looking images. The goal is the model will never see the exact same picture twice during training. This helps expose the model to more aspects of the data and generalize better.\n",
    "\n",
    "Implement this in `tf.keras` using the `ImageDataGenerator` class. Pass  different transformations to the dataset and it will take care of applying it during the training process."
   ]
  },
  {
   "cell_type": "markdown",
   "metadata": {
    "colab_type": "text",
    "id": "2uJ1G030VrWz"
   },
   "source": [
    "### Augment and visualize data"
   ]
  },
  {
   "cell_type": "markdown",
   "metadata": {
    "colab_type": "text",
    "id": "hvX7hHlgVrW0"
   },
   "source": [
    "Begin by applying random horizontal flip augmentation to the dataset and see how individual images look like after the transformation."
   ]
  },
  {
   "cell_type": "markdown",
   "metadata": {
    "colab_type": "text",
    "id": "rlVj6VqaVrW0"
   },
   "source": [
    "### Apply horizontal flip"
   ]
  },
  {
   "cell_type": "markdown",
   "metadata": {
    "colab_type": "text",
    "id": "xcdvx4TVVrW1"
   },
   "source": [
    "Pass `horizontal_flip` as an argument to the `ImageDataGenerator` class and set it to `True` to apply this augmentation."
   ]
  },
  {
   "cell_type": "code",
   "execution_count": null,
   "metadata": {
    "colab": {},
    "colab_type": "code",
    "id": "Bi1_vHyBVrW2"
   },
   "outputs": [],
   "source": [
    "image_gen = ImageDataGenerator(rescale=1./255, horizontal_flip=True)"
   ]
  },
  {
   "cell_type": "code",
   "execution_count": null,
   "metadata": {
    "colab": {},
    "colab_type": "code",
    "id": "zvwqmefgVrW3"
   },
   "outputs": [],
   "source": [
    "train_data_gen = image_gen.flow_from_directory(batch_size=batch_size,\n",
    "                                               directory=train_dir,\n",
    "                                               shuffle=True,\n",
    "                                               target_size=(IMG_HEIGHT, IMG_WIDTH))"
   ]
  },
  {
   "cell_type": "markdown",
   "metadata": {
    "colab_type": "text",
    "id": "zJpRSxJ-VrW7"
   },
   "source": [
    "Take one sample image from the training examples and repeat it five times so that the augmentation is applied to the same image five times."
   ]
  },
  {
   "cell_type": "code",
   "execution_count": null,
   "metadata": {
    "colab": {},
    "colab_type": "code",
    "id": "RrKGd_jjVrW7"
   },
   "outputs": [],
   "source": [
    "augmented_images = [train_data_gen[0][0][0] for i in range(5)]"
   ]
  },
  {
   "cell_type": "code",
   "execution_count": null,
   "metadata": {
    "colab": {},
    "colab_type": "code",
    "id": "EvBZoQ9xVrW9"
   },
   "outputs": [],
   "source": [
    "# Re-use the same custom plotting function defined and used\n",
    "# above to visualize the training images\n",
    "plotImages(augmented_images)"
   ]
  },
  {
   "cell_type": "markdown",
   "metadata": {
    "colab_type": "text",
    "id": "i7n9xcqCVrXB"
   },
   "source": [
    "### Randomly rotate the image"
   ]
  },
  {
   "cell_type": "markdown",
   "metadata": {
    "colab_type": "text",
    "id": "qXnwkzFuVrXB"
   },
   "source": [
    "Let's take a look at a different augmentation called rotation and apply 45 degrees of rotation randomly to the training examples."
   ]
  },
  {
   "cell_type": "code",
   "execution_count": null,
   "metadata": {
    "colab": {},
    "colab_type": "code",
    "id": "1zip35pDVrXB"
   },
   "outputs": [],
   "source": [
    "image_gen = ImageDataGenerator(rescale=1./255, rotation_range=45)"
   ]
  },
  {
   "cell_type": "code",
   "execution_count": null,
   "metadata": {
    "colab": {},
    "colab_type": "code",
    "id": "kVoWh4OIVrXD"
   },
   "outputs": [],
   "source": [
    "train_data_gen = image_gen.flow_from_directory(batch_size=batch_size,\n",
    "                                               directory=train_dir,\n",
    "                                               shuffle=True,\n",
    "                                               target_size=(IMG_HEIGHT, IMG_WIDTH))\n",
    "\n",
    "augmented_images = [train_data_gen[0][0][0] for i in range(5)]"
   ]
  },
  {
   "cell_type": "code",
   "execution_count": null,
   "metadata": {
    "colab": {},
    "colab_type": "code",
    "id": "wmBx8NhrVrXK"
   },
   "outputs": [],
   "source": [
    "plotImages(augmented_images)"
   ]
  },
  {
   "cell_type": "markdown",
   "metadata": {
    "colab_type": "text",
    "id": "FOqGPL76VrXM"
   },
   "source": [
    "### Apply zoom augmentation"
   ]
  },
  {
   "cell_type": "markdown",
   "metadata": {
    "colab_type": "text",
    "id": "NvqXaD8BVrXN"
   },
   "source": [
    "Apply a zoom augmentation to the dataset to zoom images up to 50% randomly."
   ]
  },
  {
   "cell_type": "code",
   "execution_count": null,
   "metadata": {
    "colab": {},
    "colab_type": "code",
    "id": "tGNKLa_YVrXR"
   },
   "outputs": [],
   "source": [
    "# zoom_range from 0 - 1 where 1 = 100%.\n",
    "image_gen = ImageDataGenerator(rescale=1./255, zoom_range=0.5) # "
   ]
  },
  {
   "cell_type": "code",
   "execution_count": null,
   "metadata": {
    "colab": {},
    "colab_type": "code",
    "id": "VOvTs32FVrXU"
   },
   "outputs": [],
   "source": [
    "train_data_gen = image_gen.flow_from_directory(batch_size=batch_size,\n",
    "                                               directory=train_dir,\n",
    "                                               shuffle=True,\n",
    "                                               target_size=(IMG_HEIGHT, IMG_WIDTH))\n",
    "\n",
    "augmented_images = [train_data_gen[0][0][0] for i in range(5)]"
   ]
  },
  {
   "cell_type": "code",
   "execution_count": null,
   "metadata": {
    "colab": {},
    "colab_type": "code",
    "id": "-KQWw8IZVrXZ"
   },
   "outputs": [],
   "source": [
    "plotImages(augmented_images)"
   ]
  },
  {
   "cell_type": "markdown",
   "metadata": {
    "colab_type": "text",
    "id": "usS13KCNVrXd"
   },
   "source": [
    "### Put it all together"
   ]
  },
  {
   "cell_type": "markdown",
   "metadata": {
    "colab_type": "text",
    "id": "OC8fIsalVrXd"
   },
   "source": [
    "Apply all the previous augmentations. Here, you applied rescale, 45 degree rotation, width shift, height shift, horizontal flip and zoom augmentation to the training images."
   ]
  },
  {
   "cell_type": "code",
   "execution_count": null,
   "metadata": {
    "colab": {},
    "colab_type": "code",
    "id": "gnr2xujaVrXe"
   },
   "outputs": [],
   "source": [
    "image_gen_train = ImageDataGenerator(\n",
    "                    rescale=1./255,\n",
    "                    rotation_range=45,\n",
    "                    width_shift_range=.15,\n",
    "                    height_shift_range=.15,\n",
    "                    horizontal_flip=True,\n",
    "                    zoom_range=0.5\n",
    "                    )"
   ]
  },
  {
   "cell_type": "code",
   "execution_count": null,
   "metadata": {
    "colab": {},
    "colab_type": "code",
    "id": "K0Efxy7EVrXh"
   },
   "outputs": [],
   "source": [
    "train_data_gen = image_gen_train.flow_from_directory(batch_size=batch_size,\n",
    "                                                     directory=train_dir,\n",
    "                                                     shuffle=True,\n",
    "                                                     target_size=(IMG_HEIGHT, IMG_WIDTH),\n",
    "                                                     class_mode='binary')"
   ]
  },
  {
   "cell_type": "markdown",
   "metadata": {
    "colab_type": "text",
    "id": "AW-pV5awVrXl"
   },
   "source": [
    "Visualize how a single image would look five different times when passing these augmentations randomly to the dataset."
   ]
  },
  {
   "cell_type": "code",
   "execution_count": null,
   "metadata": {
    "colab": {},
    "colab_type": "code",
    "id": "z2m68eMhVrXm"
   },
   "outputs": [],
   "source": [
    "augmented_images = [train_data_gen[0][0][0] for i in range(5)]\n",
    "plotImages(augmented_images)"
   ]
  },
  {
   "cell_type": "markdown",
   "metadata": {
    "colab_type": "text",
    "id": "J8cUd7FXVrXq"
   },
   "source": [
    "### Create validation data generator"
   ]
  },
  {
   "cell_type": "markdown",
   "metadata": {
    "colab_type": "text",
    "id": "a99fDBt7VrXr"
   },
   "source": [
    "Generally, only apply data augmentation to the training examples. In this case, only rescale the validation images and convert them into batches using `ImageDataGenerator`."
   ]
  },
  {
   "cell_type": "code",
   "execution_count": null,
   "metadata": {
    "colab": {},
    "colab_type": "code",
    "id": "54x0aNbKVrXr"
   },
   "outputs": [],
   "source": [
    "image_gen_val = ImageDataGenerator(rescale=1./255)"
   ]
  },
  {
   "cell_type": "code",
   "execution_count": null,
   "metadata": {
    "colab": {},
    "colab_type": "code",
    "id": "1PCHKzI8VrXv"
   },
   "outputs": [],
   "source": [
    "val_data_gen = image_gen_val.flow_from_directory(batch_size=batch_size,\n",
    "                                                 directory=validation_dir,\n",
    "                                                 target_size=(IMG_HEIGHT, IMG_WIDTH),\n",
    "                                                 class_mode='binary')"
   ]
  },
  {
   "cell_type": "markdown",
   "metadata": {
    "colab_type": "text",
    "id": "yQGhdqHFVrXx"
   },
   "source": [
    "## Dropout"
   ]
  },
  {
   "cell_type": "markdown",
   "metadata": {
    "colab_type": "text",
    "id": "2Iq5TAH_VrXx"
   },
   "source": [
    "Another technique to reduce overfitting is to introduce *dropout* to the network. It is a form of *regularization* that forces the weights in the network to take only small values, which makes the distribution of weight values more regular and the network can reduce overfitting on small training examples. Dropout is one of the regularization technique used in this tutorial\n",
    "\n",
    "When you apply dropout to a layer it randomly drops out (set to zero) number of output units from the applied layer during the training process. Dropout takes a fractional number as its input value, in the form such as 0.1, 0.2, 0.4, etc. This means dropping out 10%, 20% or 40% of the output units randomly from the applied layer.\n",
    "\n",
    "When appling 0.1 dropout to a certain layer, it randomly kills 10% of the output units in each training epoch.\n",
    "\n",
    "Create a network architecture with this new dropout feature and apply it to different convolutions and fully-connected layers."
   ]
  },
  {
   "cell_type": "markdown",
   "metadata": {
    "colab_type": "text",
    "id": "DyxxXRmVVrXy"
   },
   "source": [
    "## Creating a new network with Dropouts"
   ]
  },
  {
   "cell_type": "markdown",
   "metadata": {
    "colab_type": "text",
    "id": "1Ba2LjtkVrXy"
   },
   "source": [
    "Here, you apply dropout to first and last max pool layers. Applying dropout will randomly set 20% of the neurons to zero during each training epoch. This helps to avoid overfitting on the training dataset."
   ]
  },
  {
   "cell_type": "code",
   "execution_count": null,
   "metadata": {
    "colab": {},
    "colab_type": "code",
    "id": "2fjio8EsVrXz"
   },
   "outputs": [],
   "source": [
    "model_new = Sequential([\n",
    "    Conv2D(16, 3, padding='same', activation='relu', \n",
    "           input_shape=(IMG_HEIGHT, IMG_WIDTH ,3)),\n",
    "    MaxPooling2D(),\n",
    "    Dropout(0.2),\n",
    "    Conv2D(32, 3, padding='same', activation='relu'),\n",
    "    MaxPooling2D(),\n",
    "    Conv2D(64, 3, padding='same', activation='relu'),\n",
    "    MaxPooling2D(),\n",
    "    Dropout(0.2),\n",
    "    Flatten(),\n",
    "    Dense(512, activation='relu'),\n",
    "    Dense(1, activation='sigmoid')\n",
    "])"
   ]
  },
  {
   "cell_type": "markdown",
   "metadata": {
    "colab_type": "text",
    "id": "tpTgIxWAVrX0"
   },
   "source": [
    "### Compile the model"
   ]
  },
  {
   "cell_type": "markdown",
   "metadata": {
    "colab_type": "text",
    "id": "1osvc_iTVrX1"
   },
   "source": [
    "After introducing dropouts to the network, compile the model and view the layers summary."
   ]
  },
  {
   "cell_type": "code",
   "execution_count": null,
   "metadata": {
    "colab": {},
    "colab_type": "code",
    "id": "OkIJhS-WVrX1"
   },
   "outputs": [],
   "source": [
    "model_new.compile(optimizer='adam',\n",
    "              loss='binary_crossentropy',\n",
    "              metrics=['accuracy'])\n",
    "\n",
    "model_new.summary()"
   ]
  },
  {
   "cell_type": "markdown",
   "metadata": {
    "colab_type": "text",
    "id": "7KiDshEUVrX6"
   },
   "source": [
    "### Train the model"
   ]
  },
  {
   "cell_type": "markdown",
   "metadata": {
    "colab_type": "text",
    "id": "NFj0oVqVVrX6"
   },
   "source": [
    "After successfully introducing data augmentations to the training examples and adding dropouts to the network, train this new network:"
   ]
  },
  {
   "cell_type": "code",
   "execution_count": null,
   "metadata": {
    "colab": {},
    "colab_type": "code",
    "id": "GWxHs_luVrX7"
   },
   "outputs": [],
   "source": [
    "history = model_new.fit_generator(\n",
    "    train_data_gen,\n",
    "    steps_per_epoch=total_train // batch_size,\n",
    "    epochs=epochs,\n",
    "    validation_data=val_data_gen,\n",
    "    validation_steps=total_val // batch_size\n",
    ")"
   ]
  },
  {
   "cell_type": "markdown",
   "metadata": {
    "colab_type": "text",
    "id": "bbdyqZdxVrYA"
   },
   "source": [
    "### Visualize the model"
   ]
  },
  {
   "cell_type": "markdown",
   "metadata": {
    "colab_type": "text",
    "id": "OgvF2nt7OtR7"
   },
   "source": [
    "Visualize the new model after training, you can see that there is significantly less overfitting than before. The accuracy should go up after training the model for more epochs."
   ]
  },
  {
   "cell_type": "code",
   "execution_count": null,
   "metadata": {
    "colab": {},
    "colab_type": "code",
    "id": "7BTeMuNAVrYC"
   },
   "outputs": [],
   "source": [
    "acc = history.history['acc']\n",
    "val_acc = history.history['val_acc']\n",
    "\n",
    "loss = history.history['loss']\n",
    "val_loss = history.history['val_loss']\n",
    "\n",
    "epochs_range = range(epochs)\n",
    "\n",
    "plt.figure(figsize=(8, 8))\n",
    "plt.subplot(1, 2, 1)\n",
    "plt.plot(epochs_range, acc, label='Training Accuracy')\n",
    "plt.plot(epochs_range, val_acc, label='Validation Accuracy')\n",
    "plt.legend(loc='lower right')\n",
    "plt.title('Training and Validation Accuracy')\n",
    "\n",
    "plt.subplot(1, 2, 2)\n",
    "plt.plot(epochs_range, loss, label='Training Loss')\n",
    "plt.plot(epochs_range, val_loss, label='Validation Loss')\n",
    "plt.legend(loc='upper right')\n",
    "plt.title('Training and Validation Loss')\n",
    "plt.show()"
   ]
  }
 ],
 "metadata": {
  "accelerator": "GPU",
  "colab": {
   "collapsed_sections": [],
   "name": "classification.ipynb",
   "private_outputs": true,
   "provenance": [],
   "toc_visible": true,
   "version": "0.3.2"
  },
  "kernelspec": {
   "display_name": "Python 3",
   "language": "python",
   "name": "python3"
  },
  "language_info": {
   "codemirror_mode": {
    "name": "ipython",
    "version": 3
   },
   "file_extension": ".py",
   "mimetype": "text/x-python",
   "name": "python",
   "nbconvert_exporter": "python",
   "pygments_lexer": "ipython3",
   "version": "3.7.3"
  }
 },
 "nbformat": 4,
 "nbformat_minor": 1
}
