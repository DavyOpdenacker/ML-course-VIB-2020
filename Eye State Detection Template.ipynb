{
 "cells": [
  {
   "cell_type": "markdown",
   "metadata": {},
   "source": [
    "# Eye state detection Template"
   ]
  },
  {
   "cell_type": "code",
   "execution_count": null,
   "metadata": {},
   "outputs": [],
   "source": [
    "import numpy as np\n",
    "import pandas as pd\n",
    "from sklearn.model_selection import train_test_split\n",
    "\n",
    "random_seed = 123\n",
    "np.random.seed(random_seed)"
   ]
  },
  {
   "cell_type": "code",
   "execution_count": null,
   "metadata": {},
   "outputs": [],
   "source": [
    "train = pd.read_csv(\"train.csv\")\n",
    "test = pd.read_csv(\"test.csv\")\n",
    "\n",
    "X = train.sample(frac=1).copy()\n",
    "y = X.pop(\"eyeDetection\")"
   ]
  },
  {
   "cell_type": "code",
   "execution_count": null,
   "metadata": {},
   "outputs": [],
   "source": [
    "from sklearn.tree import DecisionTreeClassifier\n",
    "from sklearn.metrics import accuracy_score\n",
    "\n",
    "train_X, val_X, train_y, val_y = train_test_split(X,y,test_size=.2, random_state=random_seed)\n",
    "\n",
    "cls = DecisionTreeClassifier()\n",
    "cls.fit(train_X,train_y)\n",
    "predictions_train = cls.predict(train_X)\n",
    "predictions_val = cls.predict(val_X)\n",
    "print(\"%f %f\"%(accuracy_score(predictions_train, train_y),accuracy_score(predictions_val, val_y)))"
   ]
  },
  {
   "cell_type": "code",
   "execution_count": null,
   "metadata": {},
   "outputs": [],
   "source": [
    "from sklearn.model_selection import cross_val_predict\n",
    "\n",
    "predictions_val = cross_val_predict(cls, X, y, cv=3)\n",
    "print(\"%f\"%(accuracy_score(predictions_val, y)))"
   ]
  },
  {
   "cell_type": "code",
   "execution_count": null,
   "metadata": {},
   "outputs": [],
   "source": [
    "from sklearn.model_selection import GridSearchCV\n",
    "\n",
    "parameters = {'criterion': [\"gini\", \"entropy\"], 'max_depth':range(2,20,2)}\n",
    "cls_G = GridSearchCV(cls, parameters,cv=3)\n",
    "cls_G.fit(X,y)\n",
    "print(cls_G.best_estimator_)\n",
    "print(cls_G.best_score_)"
   ]
  },
  {
   "cell_type": "code",
   "execution_count": null,
   "metadata": {},
   "outputs": [],
   "source": [
    "predictions = cls_G.best_estimator_.predict(X)\n",
    "print(\"%f\"%(accuracy_score(predictions, y)))"
   ]
  },
  {
   "cell_type": "code",
   "execution_count": null,
   "metadata": {},
   "outputs": [],
   "source": []
  }
 ],
 "metadata": {
  "kernelspec": {
   "display_name": "Python 3",
   "language": "python",
   "name": "python3"
  },
  "language_info": {
   "codemirror_mode": {
    "name": "ipython",
    "version": 3
   },
   "file_extension": ".py",
   "mimetype": "text/x-python",
   "name": "python",
   "nbconvert_exporter": "python",
   "pygments_lexer": "ipython3",
   "version": "3.7.3"
  }
 },
 "nbformat": 4,
 "nbformat_minor": 2
}
